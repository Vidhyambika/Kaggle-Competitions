{
 "cells": [
  {
   "cell_type": "code",
   "execution_count": 1,
   "id": "549fb491",
   "metadata": {
    "execution": {
     "iopub.execute_input": "2023-03-01T19:22:26.640602Z",
     "iopub.status.busy": "2023-03-01T19:22:26.640019Z",
     "iopub.status.idle": "2023-03-01T19:22:26.651067Z",
     "shell.execute_reply": "2023-03-01T19:22:26.649886Z"
    },
    "papermill": {
     "duration": 0.021306,
     "end_time": "2023-03-01T19:22:26.653895",
     "exception": false,
     "start_time": "2023-03-01T19:22:26.632589",
     "status": "completed"
    },
    "tags": []
   },
   "outputs": [],
   "source": [
    "import pandas as pd"
   ]
  },
  {
   "cell_type": "code",
   "execution_count": 2,
   "id": "702abf83",
   "metadata": {
    "execution": {
     "iopub.execute_input": "2023-03-01T19:22:26.664984Z",
     "iopub.status.busy": "2023-03-01T19:22:26.663512Z",
     "iopub.status.idle": "2023-03-01T19:22:26.720580Z",
     "shell.execute_reply": "2023-03-01T19:22:26.719118Z"
    },
    "papermill": {
     "duration": 0.065977,
     "end_time": "2023-03-01T19:22:26.724000",
     "exception": false,
     "start_time": "2023-03-01T19:22:26.658023",
     "status": "completed"
    },
    "tags": []
   },
   "outputs": [],
   "source": [
    "data = pd.read_csv('/kaggle/input/titanic/train.csv')\n",
    "test = pd.read_csv('/kaggle/input/titanic/test.csv')\n",
    "test_ids = test[\"PassengerId\"]\n",
    "\n",
    "def clean(data):\n",
    "    data = data.drop([\"Ticket\", \"PassengerId\", \"Name\", \"Cabin\"], axis=1)\n",
    "    \n",
    "    cols = [\"SibSp\", \"Parch\", \"Fare\", \"Age\"]\n",
    "    for col in cols:\n",
    "        data[col].fillna(data[col].median(), inplace=True)\n",
    "        \n",
    "    data.Embarked.fillna(\"U\", inplace=True)\n",
    "    return data\n",
    "\n",
    "data = clean(data)\n",
    "test = clean(test)"
   ]
  },
  {
   "cell_type": "code",
   "execution_count": 3,
   "id": "e7d3b668",
   "metadata": {
    "execution": {
     "iopub.execute_input": "2023-03-01T19:22:26.734079Z",
     "iopub.status.busy": "2023-03-01T19:22:26.733531Z",
     "iopub.status.idle": "2023-03-01T19:22:26.762026Z",
     "shell.execute_reply": "2023-03-01T19:22:26.760601Z"
    },
    "papermill": {
     "duration": 0.037385,
     "end_time": "2023-03-01T19:22:26.765310",
     "exception": false,
     "start_time": "2023-03-01T19:22:26.727925",
     "status": "completed"
    },
    "tags": []
   },
   "outputs": [
    {
     "data": {
      "text/html": [
       "<div>\n",
       "<style scoped>\n",
       "    .dataframe tbody tr th:only-of-type {\n",
       "        vertical-align: middle;\n",
       "    }\n",
       "\n",
       "    .dataframe tbody tr th {\n",
       "        vertical-align: top;\n",
       "    }\n",
       "\n",
       "    .dataframe thead th {\n",
       "        text-align: right;\n",
       "    }\n",
       "</style>\n",
       "<table border=\"1\" class=\"dataframe\">\n",
       "  <thead>\n",
       "    <tr style=\"text-align: right;\">\n",
       "      <th></th>\n",
       "      <th>Survived</th>\n",
       "      <th>Pclass</th>\n",
       "      <th>Sex</th>\n",
       "      <th>Age</th>\n",
       "      <th>SibSp</th>\n",
       "      <th>Parch</th>\n",
       "      <th>Fare</th>\n",
       "      <th>Embarked</th>\n",
       "    </tr>\n",
       "  </thead>\n",
       "  <tbody>\n",
       "    <tr>\n",
       "      <th>0</th>\n",
       "      <td>0</td>\n",
       "      <td>3</td>\n",
       "      <td>male</td>\n",
       "      <td>22.0</td>\n",
       "      <td>1</td>\n",
       "      <td>0</td>\n",
       "      <td>7.2500</td>\n",
       "      <td>S</td>\n",
       "    </tr>\n",
       "    <tr>\n",
       "      <th>1</th>\n",
       "      <td>1</td>\n",
       "      <td>1</td>\n",
       "      <td>female</td>\n",
       "      <td>38.0</td>\n",
       "      <td>1</td>\n",
       "      <td>0</td>\n",
       "      <td>71.2833</td>\n",
       "      <td>C</td>\n",
       "    </tr>\n",
       "    <tr>\n",
       "      <th>2</th>\n",
       "      <td>1</td>\n",
       "      <td>3</td>\n",
       "      <td>female</td>\n",
       "      <td>26.0</td>\n",
       "      <td>0</td>\n",
       "      <td>0</td>\n",
       "      <td>7.9250</td>\n",
       "      <td>S</td>\n",
       "    </tr>\n",
       "  </tbody>\n",
       "</table>\n",
       "</div>"
      ],
      "text/plain": [
       "   Survived  Pclass     Sex   Age  SibSp  Parch     Fare Embarked\n",
       "0         0       3    male  22.0      1      0   7.2500        S\n",
       "1         1       1  female  38.0      1      0  71.2833        C\n",
       "2         1       3  female  26.0      0      0   7.9250        S"
      ]
     },
     "execution_count": 3,
     "metadata": {},
     "output_type": "execute_result"
    }
   ],
   "source": [
    "data.head(3)"
   ]
  },
  {
   "cell_type": "code",
   "execution_count": 4,
   "id": "2b5b0fa7",
   "metadata": {
    "execution": {
     "iopub.execute_input": "2023-03-01T19:22:26.776839Z",
     "iopub.status.busy": "2023-03-01T19:22:26.775481Z",
     "iopub.status.idle": "2023-03-01T19:22:28.137106Z",
     "shell.execute_reply": "2023-03-01T19:22:28.134847Z"
    },
    "papermill": {
     "duration": 1.371404,
     "end_time": "2023-03-01T19:22:28.140904",
     "exception": false,
     "start_time": "2023-03-01T19:22:26.769500",
     "status": "completed"
    },
    "tags": []
   },
   "outputs": [
    {
     "name": "stdout",
     "output_type": "stream",
     "text": [
      "['female' 'male']\n",
      "['C' 'Q' 'S' 'U']\n"
     ]
    },
    {
     "data": {
      "text/html": [
       "<div>\n",
       "<style scoped>\n",
       "    .dataframe tbody tr th:only-of-type {\n",
       "        vertical-align: middle;\n",
       "    }\n",
       "\n",
       "    .dataframe tbody tr th {\n",
       "        vertical-align: top;\n",
       "    }\n",
       "\n",
       "    .dataframe thead th {\n",
       "        text-align: right;\n",
       "    }\n",
       "</style>\n",
       "<table border=\"1\" class=\"dataframe\">\n",
       "  <thead>\n",
       "    <tr style=\"text-align: right;\">\n",
       "      <th></th>\n",
       "      <th>Survived</th>\n",
       "      <th>Pclass</th>\n",
       "      <th>Sex</th>\n",
       "      <th>Age</th>\n",
       "      <th>SibSp</th>\n",
       "      <th>Parch</th>\n",
       "      <th>Fare</th>\n",
       "      <th>Embarked</th>\n",
       "    </tr>\n",
       "  </thead>\n",
       "  <tbody>\n",
       "    <tr>\n",
       "      <th>0</th>\n",
       "      <td>0</td>\n",
       "      <td>3</td>\n",
       "      <td>1</td>\n",
       "      <td>22.0</td>\n",
       "      <td>1</td>\n",
       "      <td>0</td>\n",
       "      <td>7.2500</td>\n",
       "      <td>2</td>\n",
       "    </tr>\n",
       "    <tr>\n",
       "      <th>1</th>\n",
       "      <td>1</td>\n",
       "      <td>1</td>\n",
       "      <td>0</td>\n",
       "      <td>38.0</td>\n",
       "      <td>1</td>\n",
       "      <td>0</td>\n",
       "      <td>71.2833</td>\n",
       "      <td>0</td>\n",
       "    </tr>\n",
       "    <tr>\n",
       "      <th>2</th>\n",
       "      <td>1</td>\n",
       "      <td>3</td>\n",
       "      <td>0</td>\n",
       "      <td>26.0</td>\n",
       "      <td>0</td>\n",
       "      <td>0</td>\n",
       "      <td>7.9250</td>\n",
       "      <td>2</td>\n",
       "    </tr>\n",
       "    <tr>\n",
       "      <th>3</th>\n",
       "      <td>1</td>\n",
       "      <td>1</td>\n",
       "      <td>0</td>\n",
       "      <td>35.0</td>\n",
       "      <td>1</td>\n",
       "      <td>0</td>\n",
       "      <td>53.1000</td>\n",
       "      <td>2</td>\n",
       "    </tr>\n",
       "    <tr>\n",
       "      <th>4</th>\n",
       "      <td>0</td>\n",
       "      <td>3</td>\n",
       "      <td>1</td>\n",
       "      <td>35.0</td>\n",
       "      <td>0</td>\n",
       "      <td>0</td>\n",
       "      <td>8.0500</td>\n",
       "      <td>2</td>\n",
       "    </tr>\n",
       "  </tbody>\n",
       "</table>\n",
       "</div>"
      ],
      "text/plain": [
       "   Survived  Pclass  Sex   Age  SibSp  Parch     Fare  Embarked\n",
       "0         0       3    1  22.0      1      0   7.2500         2\n",
       "1         1       1    0  38.0      1      0  71.2833         0\n",
       "2         1       3    0  26.0      0      0   7.9250         2\n",
       "3         1       1    0  35.0      1      0  53.1000         2\n",
       "4         0       3    1  35.0      0      0   8.0500         2"
      ]
     },
     "execution_count": 4,
     "metadata": {},
     "output_type": "execute_result"
    }
   ],
   "source": [
    "from sklearn import preprocessing\n",
    "le = preprocessing.LabelEncoder()\n",
    "columns = [\"Sex\", \"Embarked\"]\n",
    "\n",
    "for col in columns:\n",
    "    data[col] = le.fit_transform(data[col])\n",
    "    test[col] = le.transform(test[col])\n",
    "    print(le.classes_)\n",
    "      \n",
    "data.head(5)"
   ]
  },
  {
   "cell_type": "code",
   "execution_count": 5,
   "id": "6125c2c6",
   "metadata": {
    "execution": {
     "iopub.execute_input": "2023-03-01T19:22:28.152377Z",
     "iopub.status.busy": "2023-03-01T19:22:28.151783Z",
     "iopub.status.idle": "2023-03-01T19:22:28.373297Z",
     "shell.execute_reply": "2023-03-01T19:22:28.370840Z"
    },
    "papermill": {
     "duration": 0.231305,
     "end_time": "2023-03-01T19:22:28.376882",
     "exception": false,
     "start_time": "2023-03-01T19:22:28.145577",
     "status": "completed"
    },
    "tags": []
   },
   "outputs": [],
   "source": [
    "from sklearn.linear_model import LogisticRegression\n",
    "from sklearn.model_selection import train_test_split\n",
    "\n",
    "y = data[\"Survived\"]\n",
    "X = data.drop(\"Survived\", axis=1)\n",
    "\n",
    "X_train, X_val, y_train, y_val = train_test_split(X, y, test_size=0.2, random_state=42)"
   ]
  },
  {
   "cell_type": "code",
   "execution_count": 6,
   "id": "fbdf20b4",
   "metadata": {
    "execution": {
     "iopub.execute_input": "2023-03-01T19:22:28.388821Z",
     "iopub.status.busy": "2023-03-01T19:22:28.388257Z",
     "iopub.status.idle": "2023-03-01T19:22:28.431579Z",
     "shell.execute_reply": "2023-03-01T19:22:28.429349Z"
    },
    "papermill": {
     "duration": 0.053688,
     "end_time": "2023-03-01T19:22:28.435091",
     "exception": false,
     "start_time": "2023-03-01T19:22:28.381403",
     "status": "completed"
    },
    "tags": []
   },
   "outputs": [],
   "source": [
    "clf = LogisticRegression(random_state=0, max_iter=1000).fit(X_train, y_train)"
   ]
  },
  {
   "cell_type": "code",
   "execution_count": 7,
   "id": "11c23318",
   "metadata": {
    "execution": {
     "iopub.execute_input": "2023-03-01T19:22:28.446388Z",
     "iopub.status.busy": "2023-03-01T19:22:28.445898Z",
     "iopub.status.idle": "2023-03-01T19:22:28.458108Z",
     "shell.execute_reply": "2023-03-01T19:22:28.456530Z"
    },
    "papermill": {
     "duration": 0.021497,
     "end_time": "2023-03-01T19:22:28.461118",
     "exception": false,
     "start_time": "2023-03-01T19:22:28.439621",
     "status": "completed"
    },
    "tags": []
   },
   "outputs": [
    {
     "data": {
      "text/plain": [
       "0.8100558659217877"
      ]
     },
     "execution_count": 7,
     "metadata": {},
     "output_type": "execute_result"
    }
   ],
   "source": [
    "predictions = clf.predict(X_val)\n",
    "from sklearn.metrics import accuracy_score\n",
    "accuracy_score(y_val, predictions)"
   ]
  },
  {
   "cell_type": "code",
   "execution_count": 8,
   "id": "5289d92c",
   "metadata": {
    "execution": {
     "iopub.execute_input": "2023-03-01T19:22:28.473586Z",
     "iopub.status.busy": "2023-03-01T19:22:28.472507Z",
     "iopub.status.idle": "2023-03-01T19:22:28.481072Z",
     "shell.execute_reply": "2023-03-01T19:22:28.479490Z"
    },
    "papermill": {
     "duration": 0.018701,
     "end_time": "2023-03-01T19:22:28.484649",
     "exception": false,
     "start_time": "2023-03-01T19:22:28.465948",
     "status": "completed"
    },
    "tags": []
   },
   "outputs": [],
   "source": [
    "submission_preds = clf.predict(test)"
   ]
  },
  {
   "cell_type": "code",
   "execution_count": 9,
   "id": "538a7360",
   "metadata": {
    "execution": {
     "iopub.execute_input": "2023-03-01T19:22:28.497672Z",
     "iopub.status.busy": "2023-03-01T19:22:28.496556Z",
     "iopub.status.idle": "2023-03-01T19:22:28.503127Z",
     "shell.execute_reply": "2023-03-01T19:22:28.501934Z"
    },
    "papermill": {
     "duration": 0.016524,
     "end_time": "2023-03-01T19:22:28.506138",
     "exception": false,
     "start_time": "2023-03-01T19:22:28.489614",
     "status": "completed"
    },
    "tags": []
   },
   "outputs": [],
   "source": [
    "df = pd.DataFrame({\"PassengerId\": test_ids.values,\n",
    "                   \"Survived\": submission_preds,\n",
    "                  })"
   ]
  },
  {
   "cell_type": "code",
   "execution_count": 10,
   "id": "42bb2941",
   "metadata": {
    "execution": {
     "iopub.execute_input": "2023-03-01T19:22:28.518409Z",
     "iopub.status.busy": "2023-03-01T19:22:28.517112Z",
     "iopub.status.idle": "2023-03-01T19:22:28.531324Z",
     "shell.execute_reply": "2023-03-01T19:22:28.529850Z"
    },
    "papermill": {
     "duration": 0.024199,
     "end_time": "2023-03-01T19:22:28.535027",
     "exception": false,
     "start_time": "2023-03-01T19:22:28.510828",
     "status": "completed"
    },
    "tags": []
   },
   "outputs": [],
   "source": [
    "df.to_csv(\"submission.csv\", index=False)"
   ]
  }
 ],
 "metadata": {
  "kernelspec": {
   "display_name": "Python 3",
   "language": "python",
   "name": "python3"
  },
  "language_info": {
   "codemirror_mode": {
    "name": "ipython",
    "version": 3
   },
   "file_extension": ".py",
   "mimetype": "text/x-python",
   "name": "python",
   "nbconvert_exporter": "python",
   "pygments_lexer": "ipython3",
   "version": "3.7.12"
  },
  "papermill": {
   "default_parameters": {},
   "duration": 16.706918,
   "end_time": "2023-03-01T19:22:29.466890",
   "environment_variables": {},
   "exception": null,
   "input_path": "__notebook__.ipynb",
   "output_path": "__notebook__.ipynb",
   "parameters": {},
   "start_time": "2023-03-01T19:22:12.759972",
   "version": "2.4.0"
  }
 },
 "nbformat": 4,
 "nbformat_minor": 5
}
