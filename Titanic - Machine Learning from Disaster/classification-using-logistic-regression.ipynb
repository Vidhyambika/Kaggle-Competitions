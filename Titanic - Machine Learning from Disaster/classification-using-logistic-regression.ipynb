{
 "cells": [
  {
   "cell_type": "code",
   "execution_count": 1,
   "id": "23e14304",
   "metadata": {
    "execution": {
     "iopub.execute_input": "2023-03-02T08:50:49.937277Z",
     "iopub.status.busy": "2023-03-02T08:50:49.936211Z",
     "iopub.status.idle": "2023-03-02T08:50:49.947457Z",
     "shell.execute_reply": "2023-03-02T08:50:49.946155Z"
    },
    "papermill": {
     "duration": 0.021372,
     "end_time": "2023-03-02T08:50:49.950350",
     "exception": false,
     "start_time": "2023-03-02T08:50:49.928978",
     "status": "completed"
    },
    "tags": []
   },
   "outputs": [],
   "source": [
    "import pandas as pd"
   ]
  },
  {
   "cell_type": "code",
   "execution_count": 2,
   "id": "cc9d6a05",
   "metadata": {
    "execution": {
     "iopub.execute_input": "2023-03-02T08:50:49.961477Z",
     "iopub.status.busy": "2023-03-02T08:50:49.960969Z",
     "iopub.status.idle": "2023-03-02T08:50:50.015596Z",
     "shell.execute_reply": "2023-03-02T08:50:50.014301Z"
    },
    "papermill": {
     "duration": 0.063479,
     "end_time": "2023-03-02T08:50:50.018548",
     "exception": false,
     "start_time": "2023-03-02T08:50:49.955069",
     "status": "completed"
    },
    "tags": []
   },
   "outputs": [],
   "source": [
    "data = pd.read_csv('/kaggle/input/titanic/train.csv')\n",
    "test = pd.read_csv('/kaggle/input/titanic/test.csv')\n",
    "test_ids = test[\"PassengerId\"]\n",
    "\n",
    "def clean(data):\n",
    "    data = data.drop([\"Ticket\", \"PassengerId\", \"Name\", \"Cabin\"], axis=1)\n",
    "    \n",
    "    cols = [\"SibSp\", \"Parch\", \"Fare\", \"Age\"]\n",
    "    for col in cols:\n",
    "        data[col].fillna(data[col].median(), inplace=True)\n",
    "        \n",
    "    data.Embarked.fillna(\"U\", inplace=True)\n",
    "    return data\n",
    "\n",
    "data = clean(data)\n",
    "test = clean(test)"
   ]
  },
  {
   "cell_type": "code",
   "execution_count": 3,
   "id": "3c221517",
   "metadata": {
    "execution": {
     "iopub.execute_input": "2023-03-02T08:50:50.029130Z",
     "iopub.status.busy": "2023-03-02T08:50:50.028719Z",
     "iopub.status.idle": "2023-03-02T08:50:50.055089Z",
     "shell.execute_reply": "2023-03-02T08:50:50.053657Z"
    },
    "papermill": {
     "duration": 0.035185,
     "end_time": "2023-03-02T08:50:50.057961",
     "exception": false,
     "start_time": "2023-03-02T08:50:50.022776",
     "status": "completed"
    },
    "tags": []
   },
   "outputs": [
    {
     "data": {
      "text/html": [
       "<div>\n",
       "<style scoped>\n",
       "    .dataframe tbody tr th:only-of-type {\n",
       "        vertical-align: middle;\n",
       "    }\n",
       "\n",
       "    .dataframe tbody tr th {\n",
       "        vertical-align: top;\n",
       "    }\n",
       "\n",
       "    .dataframe thead th {\n",
       "        text-align: right;\n",
       "    }\n",
       "</style>\n",
       "<table border=\"1\" class=\"dataframe\">\n",
       "  <thead>\n",
       "    <tr style=\"text-align: right;\">\n",
       "      <th></th>\n",
       "      <th>Survived</th>\n",
       "      <th>Pclass</th>\n",
       "      <th>Sex</th>\n",
       "      <th>Age</th>\n",
       "      <th>SibSp</th>\n",
       "      <th>Parch</th>\n",
       "      <th>Fare</th>\n",
       "      <th>Embarked</th>\n",
       "    </tr>\n",
       "  </thead>\n",
       "  <tbody>\n",
       "    <tr>\n",
       "      <th>0</th>\n",
       "      <td>0</td>\n",
       "      <td>3</td>\n",
       "      <td>male</td>\n",
       "      <td>22.0</td>\n",
       "      <td>1</td>\n",
       "      <td>0</td>\n",
       "      <td>7.2500</td>\n",
       "      <td>S</td>\n",
       "    </tr>\n",
       "    <tr>\n",
       "      <th>1</th>\n",
       "      <td>1</td>\n",
       "      <td>1</td>\n",
       "      <td>female</td>\n",
       "      <td>38.0</td>\n",
       "      <td>1</td>\n",
       "      <td>0</td>\n",
       "      <td>71.2833</td>\n",
       "      <td>C</td>\n",
       "    </tr>\n",
       "    <tr>\n",
       "      <th>2</th>\n",
       "      <td>1</td>\n",
       "      <td>3</td>\n",
       "      <td>female</td>\n",
       "      <td>26.0</td>\n",
       "      <td>0</td>\n",
       "      <td>0</td>\n",
       "      <td>7.9250</td>\n",
       "      <td>S</td>\n",
       "    </tr>\n",
       "  </tbody>\n",
       "</table>\n",
       "</div>"
      ],
      "text/plain": [
       "   Survived  Pclass     Sex   Age  SibSp  Parch     Fare Embarked\n",
       "0         0       3    male  22.0      1      0   7.2500        S\n",
       "1         1       1  female  38.0      1      0  71.2833        C\n",
       "2         1       3  female  26.0      0      0   7.9250        S"
      ]
     },
     "execution_count": 3,
     "metadata": {},
     "output_type": "execute_result"
    }
   ],
   "source": [
    "data.head(3)"
   ]
  },
  {
   "cell_type": "code",
   "execution_count": 4,
   "id": "26a28377",
   "metadata": {
    "execution": {
     "iopub.execute_input": "2023-03-02T08:50:50.068722Z",
     "iopub.status.busy": "2023-03-02T08:50:50.068284Z",
     "iopub.status.idle": "2023-03-02T08:50:51.169432Z",
     "shell.execute_reply": "2023-03-02T08:50:51.167963Z"
    },
    "papermill": {
     "duration": 1.109612,
     "end_time": "2023-03-02T08:50:51.172126",
     "exception": false,
     "start_time": "2023-03-02T08:50:50.062514",
     "status": "completed"
    },
    "tags": []
   },
   "outputs": [
    {
     "name": "stdout",
     "output_type": "stream",
     "text": [
      "['female' 'male']\n",
      "['C' 'Q' 'S' 'U']\n"
     ]
    },
    {
     "data": {
      "text/html": [
       "<div>\n",
       "<style scoped>\n",
       "    .dataframe tbody tr th:only-of-type {\n",
       "        vertical-align: middle;\n",
       "    }\n",
       "\n",
       "    .dataframe tbody tr th {\n",
       "        vertical-align: top;\n",
       "    }\n",
       "\n",
       "    .dataframe thead th {\n",
       "        text-align: right;\n",
       "    }\n",
       "</style>\n",
       "<table border=\"1\" class=\"dataframe\">\n",
       "  <thead>\n",
       "    <tr style=\"text-align: right;\">\n",
       "      <th></th>\n",
       "      <th>Survived</th>\n",
       "      <th>Pclass</th>\n",
       "      <th>Sex</th>\n",
       "      <th>Age</th>\n",
       "      <th>SibSp</th>\n",
       "      <th>Parch</th>\n",
       "      <th>Fare</th>\n",
       "      <th>Embarked</th>\n",
       "    </tr>\n",
       "  </thead>\n",
       "  <tbody>\n",
       "    <tr>\n",
       "      <th>0</th>\n",
       "      <td>0</td>\n",
       "      <td>3</td>\n",
       "      <td>1</td>\n",
       "      <td>22.0</td>\n",
       "      <td>1</td>\n",
       "      <td>0</td>\n",
       "      <td>7.2500</td>\n",
       "      <td>2</td>\n",
       "    </tr>\n",
       "    <tr>\n",
       "      <th>1</th>\n",
       "      <td>1</td>\n",
       "      <td>1</td>\n",
       "      <td>0</td>\n",
       "      <td>38.0</td>\n",
       "      <td>1</td>\n",
       "      <td>0</td>\n",
       "      <td>71.2833</td>\n",
       "      <td>0</td>\n",
       "    </tr>\n",
       "    <tr>\n",
       "      <th>2</th>\n",
       "      <td>1</td>\n",
       "      <td>3</td>\n",
       "      <td>0</td>\n",
       "      <td>26.0</td>\n",
       "      <td>0</td>\n",
       "      <td>0</td>\n",
       "      <td>7.9250</td>\n",
       "      <td>2</td>\n",
       "    </tr>\n",
       "    <tr>\n",
       "      <th>3</th>\n",
       "      <td>1</td>\n",
       "      <td>1</td>\n",
       "      <td>0</td>\n",
       "      <td>35.0</td>\n",
       "      <td>1</td>\n",
       "      <td>0</td>\n",
       "      <td>53.1000</td>\n",
       "      <td>2</td>\n",
       "    </tr>\n",
       "    <tr>\n",
       "      <th>4</th>\n",
       "      <td>0</td>\n",
       "      <td>3</td>\n",
       "      <td>1</td>\n",
       "      <td>35.0</td>\n",
       "      <td>0</td>\n",
       "      <td>0</td>\n",
       "      <td>8.0500</td>\n",
       "      <td>2</td>\n",
       "    </tr>\n",
       "  </tbody>\n",
       "</table>\n",
       "</div>"
      ],
      "text/plain": [
       "   Survived  Pclass  Sex   Age  SibSp  Parch     Fare  Embarked\n",
       "0         0       3    1  22.0      1      0   7.2500         2\n",
       "1         1       1    0  38.0      1      0  71.2833         0\n",
       "2         1       3    0  26.0      0      0   7.9250         2\n",
       "3         1       1    0  35.0      1      0  53.1000         2\n",
       "4         0       3    1  35.0      0      0   8.0500         2"
      ]
     },
     "execution_count": 4,
     "metadata": {},
     "output_type": "execute_result"
    }
   ],
   "source": [
    "from sklearn import preprocessing\n",
    "le = preprocessing.LabelEncoder()\n",
    "columns = [\"Sex\", \"Embarked\"]\n",
    "\n",
    "for col in columns:\n",
    "    data[col] = le.fit_transform(data[col])\n",
    "    test[col] = le.transform(test[col])\n",
    "    print(le.classes_)\n",
    "      \n",
    "data.head(5)"
   ]
  },
  {
   "cell_type": "markdown",
   "id": "b07e8ddb",
   "metadata": {
    "papermill": {
     "duration": 0.004456,
     "end_time": "2023-03-02T08:50:51.181301",
     "exception": false,
     "start_time": "2023-03-02T08:50:51.176845",
     "status": "completed"
    },
    "tags": []
   },
   "source": [
    "**Using Logistic Regression**"
   ]
  },
  {
   "cell_type": "code",
   "execution_count": 5,
   "id": "23acac04",
   "metadata": {
    "execution": {
     "iopub.execute_input": "2023-03-02T08:50:51.192772Z",
     "iopub.status.busy": "2023-03-02T08:50:51.192302Z",
     "iopub.status.idle": "2023-03-02T08:50:51.367390Z",
     "shell.execute_reply": "2023-03-02T08:50:51.366202Z"
    },
    "papermill": {
     "duration": 0.184154,
     "end_time": "2023-03-02T08:50:51.370224",
     "exception": false,
     "start_time": "2023-03-02T08:50:51.186070",
     "status": "completed"
    },
    "tags": []
   },
   "outputs": [],
   "source": [
    "from sklearn.linear_model import LogisticRegression\n",
    "from sklearn.model_selection import train_test_split\n",
    "\n",
    "y = data[\"Survived\"]\n",
    "X = data.drop(\"Survived\", axis=1)\n",
    "\n",
    "X_train, X_val, y_train, y_val = train_test_split(X, y, test_size=0.2, random_state=42)"
   ]
  },
  {
   "cell_type": "code",
   "execution_count": 6,
   "id": "c61efbc3",
   "metadata": {
    "execution": {
     "iopub.execute_input": "2023-03-02T08:50:51.382389Z",
     "iopub.status.busy": "2023-03-02T08:50:51.381208Z",
     "iopub.status.idle": "2023-03-02T08:50:51.423218Z",
     "shell.execute_reply": "2023-03-02T08:50:51.421889Z"
    },
    "papermill": {
     "duration": 0.051142,
     "end_time": "2023-03-02T08:50:51.426158",
     "exception": false,
     "start_time": "2023-03-02T08:50:51.375016",
     "status": "completed"
    },
    "tags": []
   },
   "outputs": [],
   "source": [
    "clf = LogisticRegression(random_state=0, max_iter=1000).fit(X_train, y_train)"
   ]
  },
  {
   "cell_type": "code",
   "execution_count": 7,
   "id": "0e84f694",
   "metadata": {
    "execution": {
     "iopub.execute_input": "2023-03-02T08:50:51.438055Z",
     "iopub.status.busy": "2023-03-02T08:50:51.437130Z",
     "iopub.status.idle": "2023-03-02T08:50:51.448316Z",
     "shell.execute_reply": "2023-03-02T08:50:51.447210Z"
    },
    "papermill": {
     "duration": 0.01983,
     "end_time": "2023-03-02T08:50:51.450812",
     "exception": false,
     "start_time": "2023-03-02T08:50:51.430982",
     "status": "completed"
    },
    "tags": []
   },
   "outputs": [
    {
     "data": {
      "text/plain": [
       "0.8100558659217877"
      ]
     },
     "execution_count": 7,
     "metadata": {},
     "output_type": "execute_result"
    }
   ],
   "source": [
    "predictions = clf.predict(X_val)\n",
    "from sklearn.metrics import accuracy_score\n",
    "accuracy_score(y_val, predictions)"
   ]
  },
  {
   "cell_type": "markdown",
   "id": "c12eb798",
   "metadata": {
    "papermill": {
     "duration": 0.004419,
     "end_time": "2023-03-02T08:50:51.460150",
     "exception": false,
     "start_time": "2023-03-02T08:50:51.455731",
     "status": "completed"
    },
    "tags": []
   },
   "source": [
    "**Using Random Forest Classifier**"
   ]
  },
  {
   "cell_type": "code",
   "execution_count": 8,
   "id": "553f272c",
   "metadata": {
    "execution": {
     "iopub.execute_input": "2023-03-02T08:50:51.472523Z",
     "iopub.status.busy": "2023-03-02T08:50:51.472057Z",
     "iopub.status.idle": "2023-03-02T08:50:51.950313Z",
     "shell.execute_reply": "2023-03-02T08:50:51.949092Z"
    },
    "papermill": {
     "duration": 0.48824,
     "end_time": "2023-03-02T08:50:51.953295",
     "exception": false,
     "start_time": "2023-03-02T08:50:51.465055",
     "status": "completed"
    },
    "tags": []
   },
   "outputs": [],
   "source": [
    "from sklearn.ensemble import RandomForestClassifier\n",
    "clfs = RandomForestClassifier(random_state=0).fit(X_train, y_train)"
   ]
  },
  {
   "cell_type": "code",
   "execution_count": 9,
   "id": "20dc2094",
   "metadata": {
    "execution": {
     "iopub.execute_input": "2023-03-02T08:50:51.964804Z",
     "iopub.status.busy": "2023-03-02T08:50:51.964351Z",
     "iopub.status.idle": "2023-03-02T08:50:51.991929Z",
     "shell.execute_reply": "2023-03-02T08:50:51.990553Z"
    },
    "papermill": {
     "duration": 0.036601,
     "end_time": "2023-03-02T08:50:51.994727",
     "exception": false,
     "start_time": "2023-03-02T08:50:51.958126",
     "status": "completed"
    },
    "tags": []
   },
   "outputs": [
    {
     "data": {
      "text/plain": [
       "0.8044692737430168"
      ]
     },
     "execution_count": 9,
     "metadata": {},
     "output_type": "execute_result"
    }
   ],
   "source": [
    "predictions = clfs.predict(X_val)\n",
    "from sklearn.metrics import accuracy_score\n",
    "accuracy_score(y_val, predictions)"
   ]
  },
  {
   "cell_type": "code",
   "execution_count": 10,
   "id": "2f5d3903",
   "metadata": {
    "execution": {
     "iopub.execute_input": "2023-03-02T08:50:52.006919Z",
     "iopub.status.busy": "2023-03-02T08:50:52.006522Z",
     "iopub.status.idle": "2023-03-02T08:50:52.014301Z",
     "shell.execute_reply": "2023-03-02T08:50:52.012745Z"
    },
    "papermill": {
     "duration": 0.017406,
     "end_time": "2023-03-02T08:50:52.017098",
     "exception": false,
     "start_time": "2023-03-02T08:50:51.999692",
     "status": "completed"
    },
    "tags": []
   },
   "outputs": [],
   "source": [
    "submission_preds = clf.predict(test)"
   ]
  },
  {
   "cell_type": "code",
   "execution_count": 11,
   "id": "f64eec75",
   "metadata": {
    "execution": {
     "iopub.execute_input": "2023-03-02T08:50:52.028912Z",
     "iopub.status.busy": "2023-03-02T08:50:52.028496Z",
     "iopub.status.idle": "2023-03-02T08:50:52.034426Z",
     "shell.execute_reply": "2023-03-02T08:50:52.033103Z"
    },
    "papermill": {
     "duration": 0.01488,
     "end_time": "2023-03-02T08:50:52.036887",
     "exception": false,
     "start_time": "2023-03-02T08:50:52.022007",
     "status": "completed"
    },
    "tags": []
   },
   "outputs": [],
   "source": [
    "df = pd.DataFrame({\"PassengerId\": test_ids.values,\n",
    "                   \"Survived\": submission_preds,\n",
    "                  })"
   ]
  },
  {
   "cell_type": "code",
   "execution_count": 12,
   "id": "d1e6505c",
   "metadata": {
    "execution": {
     "iopub.execute_input": "2023-03-02T08:50:52.049245Z",
     "iopub.status.busy": "2023-03-02T08:50:52.048823Z",
     "iopub.status.idle": "2023-03-02T08:50:52.059161Z",
     "shell.execute_reply": "2023-03-02T08:50:52.057690Z"
    },
    "papermill": {
     "duration": 0.020029,
     "end_time": "2023-03-02T08:50:52.062038",
     "exception": false,
     "start_time": "2023-03-02T08:50:52.042009",
     "status": "completed"
    },
    "tags": []
   },
   "outputs": [],
   "source": [
    "df.to_csv(\"submission.csv\", index=False)"
   ]
  }
 ],
 "metadata": {
  "kernelspec": {
   "display_name": "Python 3",
   "language": "python",
   "name": "python3"
  },
  "language_info": {
   "codemirror_mode": {
    "name": "ipython",
    "version": 3
   },
   "file_extension": ".py",
   "mimetype": "text/x-python",
   "name": "python",
   "nbconvert_exporter": "python",
   "pygments_lexer": "ipython3",
   "version": "3.7.12"
  },
  "papermill": {
   "default_parameters": {},
   "duration": 13.737395,
   "end_time": "2023-03-02T08:50:52.891639",
   "environment_variables": {},
   "exception": null,
   "input_path": "__notebook__.ipynb",
   "output_path": "__notebook__.ipynb",
   "parameters": {},
   "start_time": "2023-03-02T08:50:39.154244",
   "version": "2.4.0"
  }
 },
 "nbformat": 4,
 "nbformat_minor": 5
}
