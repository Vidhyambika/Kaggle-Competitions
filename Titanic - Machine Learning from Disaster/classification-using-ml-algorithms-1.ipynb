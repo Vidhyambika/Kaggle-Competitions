{
 "cells": [
  {
   "cell_type": "code",
   "execution_count": 1,
   "id": "5afde0e8",
   "metadata": {
    "execution": {
     "iopub.execute_input": "2023-03-03T19:34:04.612542Z",
     "iopub.status.busy": "2023-03-03T19:34:04.612097Z",
     "iopub.status.idle": "2023-03-03T19:34:04.622069Z",
     "shell.execute_reply": "2023-03-03T19:34:04.620990Z"
    },
    "papermill": {
     "duration": 0.020034,
     "end_time": "2023-03-03T19:34:04.624751",
     "exception": false,
     "start_time": "2023-03-03T19:34:04.604717",
     "status": "completed"
    },
    "tags": []
   },
   "outputs": [],
   "source": [
    "import pandas as pd"
   ]
  },
  {
   "cell_type": "code",
   "execution_count": 2,
   "id": "a7314cc0",
   "metadata": {
    "execution": {
     "iopub.execute_input": "2023-03-03T19:34:04.636072Z",
     "iopub.status.busy": "2023-03-03T19:34:04.635658Z",
     "iopub.status.idle": "2023-03-03T19:34:04.686114Z",
     "shell.execute_reply": "2023-03-03T19:34:04.684765Z"
    },
    "papermill": {
     "duration": 0.059202,
     "end_time": "2023-03-03T19:34:04.688955",
     "exception": false,
     "start_time": "2023-03-03T19:34:04.629753",
     "status": "completed"
    },
    "tags": []
   },
   "outputs": [],
   "source": [
    "data = pd.read_csv('/kaggle/input/titanic/train.csv')\n",
    "test = pd.read_csv('/kaggle/input/titanic/test.csv')\n",
    "test_ids = test[\"PassengerId\"]\n",
    "\n",
    "def clean(data):\n",
    "    data = data.drop([\"Ticket\", \"PassengerId\", \"Name\", \"Cabin\"], axis=1)\n",
    "    \n",
    "    cols = [\"SibSp\", \"Parch\", \"Fare\", \"Age\"]\n",
    "    for col in cols:\n",
    "        data[col].fillna(data[col].median(), inplace=True)\n",
    "        \n",
    "    data.Embarked.fillna(\"U\", inplace=True)\n",
    "    return data\n",
    "\n",
    "data = clean(data)\n",
    "test = clean(test)"
   ]
  },
  {
   "cell_type": "code",
   "execution_count": 3,
   "id": "f5995c66",
   "metadata": {
    "execution": {
     "iopub.execute_input": "2023-03-03T19:34:04.699750Z",
     "iopub.status.busy": "2023-03-03T19:34:04.699164Z",
     "iopub.status.idle": "2023-03-03T19:34:04.726318Z",
     "shell.execute_reply": "2023-03-03T19:34:04.724964Z"
    },
    "papermill": {
     "duration": 0.035723,
     "end_time": "2023-03-03T19:34:04.729022",
     "exception": false,
     "start_time": "2023-03-03T19:34:04.693299",
     "status": "completed"
    },
    "tags": []
   },
   "outputs": [
    {
     "data": {
      "text/html": [
       "<div>\n",
       "<style scoped>\n",
       "    .dataframe tbody tr th:only-of-type {\n",
       "        vertical-align: middle;\n",
       "    }\n",
       "\n",
       "    .dataframe tbody tr th {\n",
       "        vertical-align: top;\n",
       "    }\n",
       "\n",
       "    .dataframe thead th {\n",
       "        text-align: right;\n",
       "    }\n",
       "</style>\n",
       "<table border=\"1\" class=\"dataframe\">\n",
       "  <thead>\n",
       "    <tr style=\"text-align: right;\">\n",
       "      <th></th>\n",
       "      <th>Survived</th>\n",
       "      <th>Pclass</th>\n",
       "      <th>Sex</th>\n",
       "      <th>Age</th>\n",
       "      <th>SibSp</th>\n",
       "      <th>Parch</th>\n",
       "      <th>Fare</th>\n",
       "      <th>Embarked</th>\n",
       "    </tr>\n",
       "  </thead>\n",
       "  <tbody>\n",
       "    <tr>\n",
       "      <th>0</th>\n",
       "      <td>0</td>\n",
       "      <td>3</td>\n",
       "      <td>male</td>\n",
       "      <td>22.0</td>\n",
       "      <td>1</td>\n",
       "      <td>0</td>\n",
       "      <td>7.2500</td>\n",
       "      <td>S</td>\n",
       "    </tr>\n",
       "    <tr>\n",
       "      <th>1</th>\n",
       "      <td>1</td>\n",
       "      <td>1</td>\n",
       "      <td>female</td>\n",
       "      <td>38.0</td>\n",
       "      <td>1</td>\n",
       "      <td>0</td>\n",
       "      <td>71.2833</td>\n",
       "      <td>C</td>\n",
       "    </tr>\n",
       "    <tr>\n",
       "      <th>2</th>\n",
       "      <td>1</td>\n",
       "      <td>3</td>\n",
       "      <td>female</td>\n",
       "      <td>26.0</td>\n",
       "      <td>0</td>\n",
       "      <td>0</td>\n",
       "      <td>7.9250</td>\n",
       "      <td>S</td>\n",
       "    </tr>\n",
       "  </tbody>\n",
       "</table>\n",
       "</div>"
      ],
      "text/plain": [
       "   Survived  Pclass     Sex   Age  SibSp  Parch     Fare Embarked\n",
       "0         0       3    male  22.0      1      0   7.2500        S\n",
       "1         1       1  female  38.0      1      0  71.2833        C\n",
       "2         1       3  female  26.0      0      0   7.9250        S"
      ]
     },
     "execution_count": 3,
     "metadata": {},
     "output_type": "execute_result"
    }
   ],
   "source": [
    "data.head(3)"
   ]
  },
  {
   "cell_type": "code",
   "execution_count": 4,
   "id": "95d904a0",
   "metadata": {
    "execution": {
     "iopub.execute_input": "2023-03-03T19:34:04.739862Z",
     "iopub.status.busy": "2023-03-03T19:34:04.739433Z",
     "iopub.status.idle": "2023-03-03T19:34:05.898132Z",
     "shell.execute_reply": "2023-03-03T19:34:05.895884Z"
    },
    "papermill": {
     "duration": 1.168499,
     "end_time": "2023-03-03T19:34:05.902108",
     "exception": false,
     "start_time": "2023-03-03T19:34:04.733609",
     "status": "completed"
    },
    "tags": []
   },
   "outputs": [
    {
     "name": "stdout",
     "output_type": "stream",
     "text": [
      "['female' 'male']\n",
      "['C' 'Q' 'S' 'U']\n"
     ]
    },
    {
     "data": {
      "text/html": [
       "<div>\n",
       "<style scoped>\n",
       "    .dataframe tbody tr th:only-of-type {\n",
       "        vertical-align: middle;\n",
       "    }\n",
       "\n",
       "    .dataframe tbody tr th {\n",
       "        vertical-align: top;\n",
       "    }\n",
       "\n",
       "    .dataframe thead th {\n",
       "        text-align: right;\n",
       "    }\n",
       "</style>\n",
       "<table border=\"1\" class=\"dataframe\">\n",
       "  <thead>\n",
       "    <tr style=\"text-align: right;\">\n",
       "      <th></th>\n",
       "      <th>Survived</th>\n",
       "      <th>Pclass</th>\n",
       "      <th>Sex</th>\n",
       "      <th>Age</th>\n",
       "      <th>SibSp</th>\n",
       "      <th>Parch</th>\n",
       "      <th>Fare</th>\n",
       "      <th>Embarked</th>\n",
       "    </tr>\n",
       "  </thead>\n",
       "  <tbody>\n",
       "    <tr>\n",
       "      <th>0</th>\n",
       "      <td>0</td>\n",
       "      <td>3</td>\n",
       "      <td>1</td>\n",
       "      <td>22.0</td>\n",
       "      <td>1</td>\n",
       "      <td>0</td>\n",
       "      <td>7.2500</td>\n",
       "      <td>2</td>\n",
       "    </tr>\n",
       "    <tr>\n",
       "      <th>1</th>\n",
       "      <td>1</td>\n",
       "      <td>1</td>\n",
       "      <td>0</td>\n",
       "      <td>38.0</td>\n",
       "      <td>1</td>\n",
       "      <td>0</td>\n",
       "      <td>71.2833</td>\n",
       "      <td>0</td>\n",
       "    </tr>\n",
       "    <tr>\n",
       "      <th>2</th>\n",
       "      <td>1</td>\n",
       "      <td>3</td>\n",
       "      <td>0</td>\n",
       "      <td>26.0</td>\n",
       "      <td>0</td>\n",
       "      <td>0</td>\n",
       "      <td>7.9250</td>\n",
       "      <td>2</td>\n",
       "    </tr>\n",
       "    <tr>\n",
       "      <th>3</th>\n",
       "      <td>1</td>\n",
       "      <td>1</td>\n",
       "      <td>0</td>\n",
       "      <td>35.0</td>\n",
       "      <td>1</td>\n",
       "      <td>0</td>\n",
       "      <td>53.1000</td>\n",
       "      <td>2</td>\n",
       "    </tr>\n",
       "    <tr>\n",
       "      <th>4</th>\n",
       "      <td>0</td>\n",
       "      <td>3</td>\n",
       "      <td>1</td>\n",
       "      <td>35.0</td>\n",
       "      <td>0</td>\n",
       "      <td>0</td>\n",
       "      <td>8.0500</td>\n",
       "      <td>2</td>\n",
       "    </tr>\n",
       "  </tbody>\n",
       "</table>\n",
       "</div>"
      ],
      "text/plain": [
       "   Survived  Pclass  Sex   Age  SibSp  Parch     Fare  Embarked\n",
       "0         0       3    1  22.0      1      0   7.2500         2\n",
       "1         1       1    0  38.0      1      0  71.2833         0\n",
       "2         1       3    0  26.0      0      0   7.9250         2\n",
       "3         1       1    0  35.0      1      0  53.1000         2\n",
       "4         0       3    1  35.0      0      0   8.0500         2"
      ]
     },
     "execution_count": 4,
     "metadata": {},
     "output_type": "execute_result"
    }
   ],
   "source": [
    "from sklearn import preprocessing\n",
    "le = preprocessing.LabelEncoder()\n",
    "columns = [\"Sex\", \"Embarked\"]\n",
    "\n",
    "for col in columns:\n",
    "    data[col] = le.fit_transform(data[col])\n",
    "    test[col] = le.transform(test[col])\n",
    "    print(le.classes_)\n",
    "      \n",
    "data.head(5)"
   ]
  },
  {
   "cell_type": "markdown",
   "id": "1f1ed28f",
   "metadata": {
    "papermill": {
     "duration": 0.004639,
     "end_time": "2023-03-03T19:34:05.912146",
     "exception": false,
     "start_time": "2023-03-03T19:34:05.907507",
     "status": "completed"
    },
    "tags": []
   },
   "source": [
    "**Using Logistic Regression**"
   ]
  },
  {
   "cell_type": "code",
   "execution_count": 5,
   "id": "910aa9e7",
   "metadata": {
    "execution": {
     "iopub.execute_input": "2023-03-03T19:34:05.923485Z",
     "iopub.status.busy": "2023-03-03T19:34:05.923037Z",
     "iopub.status.idle": "2023-03-03T19:34:06.118177Z",
     "shell.execute_reply": "2023-03-03T19:34:06.116907Z"
    },
    "papermill": {
     "duration": 0.204279,
     "end_time": "2023-03-03T19:34:06.121146",
     "exception": false,
     "start_time": "2023-03-03T19:34:05.916867",
     "status": "completed"
    },
    "tags": []
   },
   "outputs": [],
   "source": [
    "from sklearn.linear_model import LogisticRegression\n",
    "from sklearn.model_selection import train_test_split\n",
    "\n",
    "y = data[\"Survived\"]\n",
    "X = data.drop(\"Survived\", axis=1)\n",
    "\n",
    "X_train, X_val, y_train, y_val = train_test_split(X, y, test_size=0.2, random_state=42)"
   ]
  },
  {
   "cell_type": "code",
   "execution_count": 6,
   "id": "b821fa87",
   "metadata": {
    "execution": {
     "iopub.execute_input": "2023-03-03T19:34:06.132678Z",
     "iopub.status.busy": "2023-03-03T19:34:06.132280Z",
     "iopub.status.idle": "2023-03-03T19:34:06.187295Z",
     "shell.execute_reply": "2023-03-03T19:34:06.186308Z"
    },
    "papermill": {
     "duration": 0.064184,
     "end_time": "2023-03-03T19:34:06.190235",
     "exception": false,
     "start_time": "2023-03-03T19:34:06.126051",
     "status": "completed"
    },
    "tags": []
   },
   "outputs": [],
   "source": [
    "clf = LogisticRegression(random_state=0, max_iter=1000).fit(X_train, y_train)"
   ]
  },
  {
   "cell_type": "code",
   "execution_count": 7,
   "id": "f8d10b5f",
   "metadata": {
    "execution": {
     "iopub.execute_input": "2023-03-03T19:34:06.201545Z",
     "iopub.status.busy": "2023-03-03T19:34:06.201147Z",
     "iopub.status.idle": "2023-03-03T19:34:06.212176Z",
     "shell.execute_reply": "2023-03-03T19:34:06.211000Z"
    },
    "papermill": {
     "duration": 0.019591,
     "end_time": "2023-03-03T19:34:06.214620",
     "exception": false,
     "start_time": "2023-03-03T19:34:06.195029",
     "status": "completed"
    },
    "tags": []
   },
   "outputs": [
    {
     "data": {
      "text/plain": [
       "0.8100558659217877"
      ]
     },
     "execution_count": 7,
     "metadata": {},
     "output_type": "execute_result"
    }
   ],
   "source": [
    "predictions = clf.predict(X_val)\n",
    "from sklearn.metrics import accuracy_score\n",
    "accuracy_score(y_val, predictions)"
   ]
  },
  {
   "cell_type": "markdown",
   "id": "41f421c0",
   "metadata": {
    "papermill": {
     "duration": 0.00459,
     "end_time": "2023-03-03T19:34:06.224154",
     "exception": false,
     "start_time": "2023-03-03T19:34:06.219564",
     "status": "completed"
    },
    "tags": []
   },
   "source": [
    "**Using Random Forest Classifier**"
   ]
  },
  {
   "cell_type": "code",
   "execution_count": 8,
   "id": "7095c8c0",
   "metadata": {
    "execution": {
     "iopub.execute_input": "2023-03-03T19:34:06.235697Z",
     "iopub.status.busy": "2023-03-03T19:34:06.235295Z",
     "iopub.status.idle": "2023-03-03T19:34:06.745250Z",
     "shell.execute_reply": "2023-03-03T19:34:06.743624Z"
    },
    "papermill": {
     "duration": 0.51934,
     "end_time": "2023-03-03T19:34:06.748274",
     "exception": false,
     "start_time": "2023-03-03T19:34:06.228934",
     "status": "completed"
    },
    "tags": []
   },
   "outputs": [],
   "source": [
    "from sklearn.ensemble import RandomForestClassifier\n",
    "clfs = RandomForestClassifier(random_state=0).fit(X_train, y_train)"
   ]
  },
  {
   "cell_type": "code",
   "execution_count": 9,
   "id": "06a40593",
   "metadata": {
    "execution": {
     "iopub.execute_input": "2023-03-03T19:34:06.759927Z",
     "iopub.status.busy": "2023-03-03T19:34:06.759454Z",
     "iopub.status.idle": "2023-03-03T19:34:06.787155Z",
     "shell.execute_reply": "2023-03-03T19:34:06.785764Z"
    },
    "papermill": {
     "duration": 0.036433,
     "end_time": "2023-03-03T19:34:06.789659",
     "exception": false,
     "start_time": "2023-03-03T19:34:06.753226",
     "status": "completed"
    },
    "tags": []
   },
   "outputs": [
    {
     "data": {
      "text/plain": [
       "0.8044692737430168"
      ]
     },
     "execution_count": 9,
     "metadata": {},
     "output_type": "execute_result"
    }
   ],
   "source": [
    "predictions = clfs.predict(X_val)\n",
    "from sklearn.metrics import accuracy_score\n",
    "accuracy_score(y_val, predictions)"
   ]
  },
  {
   "cell_type": "code",
   "execution_count": 10,
   "id": "ddab437e",
   "metadata": {
    "execution": {
     "iopub.execute_input": "2023-03-03T19:34:06.802011Z",
     "iopub.status.busy": "2023-03-03T19:34:06.801076Z",
     "iopub.status.idle": "2023-03-03T19:34:06.808972Z",
     "shell.execute_reply": "2023-03-03T19:34:06.807760Z"
    },
    "papermill": {
     "duration": 0.016735,
     "end_time": "2023-03-03T19:34:06.811443",
     "exception": false,
     "start_time": "2023-03-03T19:34:06.794708",
     "status": "completed"
    },
    "tags": []
   },
   "outputs": [],
   "source": [
    "submission_preds = clf.predict(test)"
   ]
  },
  {
   "cell_type": "code",
   "execution_count": 11,
   "id": "3f0e72e2",
   "metadata": {
    "execution": {
     "iopub.execute_input": "2023-03-03T19:34:06.823661Z",
     "iopub.status.busy": "2023-03-03T19:34:06.823200Z",
     "iopub.status.idle": "2023-03-03T19:34:06.830197Z",
     "shell.execute_reply": "2023-03-03T19:34:06.828398Z"
    },
    "papermill": {
     "duration": 0.016705,
     "end_time": "2023-03-03T19:34:06.833098",
     "exception": false,
     "start_time": "2023-03-03T19:34:06.816393",
     "status": "completed"
    },
    "tags": []
   },
   "outputs": [],
   "source": [
    "dfs = pd.DataFrame({\"PassengerId\": test_ids.values,\n",
    "                   \"Survived\": submission_preds,\n",
    "                  })"
   ]
  },
  {
   "cell_type": "code",
   "execution_count": 12,
   "id": "73c8a30f",
   "metadata": {
    "execution": {
     "iopub.execute_input": "2023-03-03T19:34:06.845291Z",
     "iopub.status.busy": "2023-03-03T19:34:06.844864Z",
     "iopub.status.idle": "2023-03-03T19:34:07.152591Z",
     "shell.execute_reply": "2023-03-03T19:34:07.151192Z"
    },
    "papermill": {
     "duration": 0.317194,
     "end_time": "2023-03-03T19:34:07.155457",
     "exception": false,
     "start_time": "2023-03-03T19:34:06.838263",
     "status": "completed"
    },
    "tags": []
   },
   "outputs": [
    {
     "data": {
      "text/plain": [
       "<AxesSubplot:>"
      ]
     },
     "execution_count": 12,
     "metadata": {},
     "output_type": "execute_result"
    },
    {
     "data": {
      "image/png": "[encoded data removed]",
      "text/plain": [
       "<Figure size 640x480 with 1 Axes>"
      ]
     },
     "metadata": {},
     "output_type": "display_data"
    }
   ],
   "source": [
    "dfs['Survived'].value_counts().plot(kind='bar')"
   ]
  },
  {
   "cell_type": "code",
   "execution_count": 13,
   "id": "3a22e5a4",
   "metadata": {
    "execution": {
     "iopub.execute_input": "2023-03-03T19:34:07.170083Z",
     "iopub.status.busy": "2023-03-03T19:34:07.169629Z",
     "iopub.status.idle": "2023-03-03T19:34:07.183779Z",
     "shell.execute_reply": "2023-03-03T19:34:07.182039Z"
    },
    "papermill": {
     "duration": 0.026192,
     "end_time": "2023-03-03T19:34:07.187218",
     "exception": false,
     "start_time": "2023-03-03T19:34:07.161026",
     "status": "completed"
    },
    "tags": []
   },
   "outputs": [],
   "source": [
    "dfs.to_csv(\"submission.csv\", index=False)"
   ]
  }
 ],
 "metadata": {
  "kernelspec": {
   "display_name": "Python 3",
   "language": "python",
   "name": "python3"
  },
  "language_info": {
   "codemirror_mode": {
    "name": "ipython",
    "version": 3
   },
   "file_extension": ".py",
   "mimetype": "text/x-python",
   "name": "python",
   "nbconvert_exporter": "python",
   "pygments_lexer": "ipython3",
   "version": "3.7.12"
  },
  "papermill": {
   "default_parameters": {},
   "duration": 14.573756,
   "end_time": "2023-03-03T19:34:08.019193",
   "environment_variables": {},
   "exception": null,
   "input_path": "__notebook__.ipynb",
   "output_path": "__notebook__.ipynb",
   "parameters": {},
   "start_time": "2023-03-03T19:33:53.445437",
   "version": "2.4.0"
  }
 },
 "nbformat": 4,
 "nbformat_minor": 5
}
