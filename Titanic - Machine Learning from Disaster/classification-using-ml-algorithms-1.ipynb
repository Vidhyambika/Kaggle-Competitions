{
 "cells": [
  {
   "cell_type": "markdown",
   "id": "46fbda46",
   "metadata": {
    "id": "5kWrPN31oNvM",
    "papermill": {
     "duration": 0.01295,
     "end_time": "2023-03-03T21:20:44.186394",
     "exception": false,
     "start_time": "2023-03-03T21:20:44.173444",
     "status": "completed"
    },
    "tags": []
   },
   "source": [
    "# **IMPORTING LIBRARIES**"
   ]
  },
  {
   "cell_type": "code",
   "execution_count": 1,
   "id": "8494b6d8",
   "metadata": {
    "execution": {
     "iopub.execute_input": "2023-03-03T21:20:44.213201Z",
     "iopub.status.busy": "2023-03-03T21:20:44.212677Z",
     "iopub.status.idle": "2023-03-03T21:20:45.350401Z",
     "shell.execute_reply": "2023-03-03T21:20:45.349195Z"
    },
    "id": "5mWGOXuy-Pp2",
    "papermill": {
     "duration": 1.154633,
     "end_time": "2023-03-03T21:20:45.353261",
     "exception": false,
     "start_time": "2023-03-03T21:20:44.198628",
     "status": "completed"
    },
    "tags": []
   },
   "outputs": [],
   "source": [
    "import pandas as pd\n",
    "import numpy as np\n",
    "import matplotlib.pyplot as plt\n",
    "import seaborn as sns"
   ]
  },
  {
   "cell_type": "markdown",
   "id": "2c5df84b",
   "metadata": {
    "id": "JXMoQ6_soTso",
    "papermill": {
     "duration": 0.012221,
     "end_time": "2023-03-03T21:20:45.377966",
     "exception": false,
     "start_time": "2023-03-03T21:20:45.365745",
     "status": "completed"
    },
    "tags": []
   },
   "source": [
    "# **LOADING THE DATASET**"
   ]
  },
  {
   "cell_type": "code",
   "execution_count": 2,
   "id": "b8c05454",
   "metadata": {
    "execution": {
     "iopub.execute_input": "2023-03-03T21:20:45.407117Z",
     "iopub.status.busy": "2023-03-03T21:20:45.405649Z",
     "iopub.status.idle": "2023-03-03T21:20:45.470080Z",
     "shell.execute_reply": "2023-03-03T21:20:45.468334Z"
    },
    "id": "oB5cxbK-ACBP",
    "outputId": "26ee73b7-366c-4dbb-d227-ed9ca9d28e34",
    "papermill": {
     "duration": 0.080955,
     "end_time": "2023-03-03T21:20:45.472284",
     "exception": false,
     "start_time": "2023-03-03T21:20:45.391329",
     "status": "completed"
    },
    "tags": []
   },
   "outputs": [
    {
     "data": {
      "text/html": [
       "<div>\n",
       "<style scoped>\n",
       "    .dataframe tbody tr th:only-of-type {\n",
       "        vertical-align: middle;\n",
       "    }\n",
       "\n",
       "    .dataframe tbody tr th {\n",
       "        vertical-align: top;\n",
       "    }\n",
       "\n",
       "    .dataframe thead th {\n",
       "        text-align: right;\n",
       "    }\n",
       "</style>\n",
       "<table border=\"1\" class=\"dataframe\">\n",
       "  <thead>\n",
       "    <tr style=\"text-align: right;\">\n",
       "      <th></th>\n",
       "      <th>PassengerId</th>\n",
       "      <th>Survived</th>\n",
       "      <th>Pclass</th>\n",
       "      <th>Name</th>\n",
       "      <th>Sex</th>\n",
       "      <th>Age</th>\n",
       "      <th>SibSp</th>\n",
       "      <th>Parch</th>\n",
       "      <th>Ticket</th>\n",
       "      <th>Fare</th>\n",
       "      <th>Cabin</th>\n",
       "      <th>Embarked</th>\n",
       "    </tr>\n",
       "  </thead>\n",
       "  <tbody>\n",
       "    <tr>\n",
       "      <th>0</th>\n",
       "      <td>1</td>\n",
       "      <td>0</td>\n",
       "      <td>3</td>\n",
       "      <td>Braund, Mr. Owen Harris</td>\n",
       "      <td>male</td>\n",
       "      <td>22.0</td>\n",
       "      <td>1</td>\n",
       "      <td>0</td>\n",
       "      <td>A/5 21171</td>\n",
       "      <td>7.2500</td>\n",
       "      <td>NaN</td>\n",
       "      <td>S</td>\n",
       "    </tr>\n",
       "    <tr>\n",
       "      <th>1</th>\n",
       "      <td>2</td>\n",
       "      <td>1</td>\n",
       "      <td>1</td>\n",
       "      <td>Cumings, Mrs. John Bradley (Florence Briggs Th...</td>\n",
       "      <td>female</td>\n",
       "      <td>38.0</td>\n",
       "      <td>1</td>\n",
       "      <td>0</td>\n",
       "      <td>PC 17599</td>\n",
       "      <td>71.2833</td>\n",
       "      <td>C85</td>\n",
       "      <td>C</td>\n",
       "    </tr>\n",
       "    <tr>\n",
       "      <th>2</th>\n",
       "      <td>3</td>\n",
       "      <td>1</td>\n",
       "      <td>3</td>\n",
       "      <td>Heikkinen, Miss. Laina</td>\n",
       "      <td>female</td>\n",
       "      <td>26.0</td>\n",
       "      <td>0</td>\n",
       "      <td>0</td>\n",
       "      <td>STON/O2. 3101282</td>\n",
       "      <td>7.9250</td>\n",
       "      <td>NaN</td>\n",
       "      <td>S</td>\n",
       "    </tr>\n",
       "    <tr>\n",
       "      <th>3</th>\n",
       "      <td>4</td>\n",
       "      <td>1</td>\n",
       "      <td>1</td>\n",
       "      <td>Futrelle, Mrs. Jacques Heath (Lily May Peel)</td>\n",
       "      <td>female</td>\n",
       "      <td>35.0</td>\n",
       "      <td>1</td>\n",
       "      <td>0</td>\n",
       "      <td>113803</td>\n",
       "      <td>53.1000</td>\n",
       "      <td>C123</td>\n",
       "      <td>S</td>\n",
       "    </tr>\n",
       "    <tr>\n",
       "      <th>4</th>\n",
       "      <td>5</td>\n",
       "      <td>0</td>\n",
       "      <td>3</td>\n",
       "      <td>Allen, Mr. William Henry</td>\n",
       "      <td>male</td>\n",
       "      <td>35.0</td>\n",
       "      <td>0</td>\n",
       "      <td>0</td>\n",
       "      <td>373450</td>\n",
       "      <td>8.0500</td>\n",
       "      <td>NaN</td>\n",
       "      <td>S</td>\n",
       "    </tr>\n",
       "    <tr>\n",
       "      <th>...</th>\n",
       "      <td>...</td>\n",
       "      <td>...</td>\n",
       "      <td>...</td>\n",
       "      <td>...</td>\n",
       "      <td>...</td>\n",
       "      <td>...</td>\n",
       "      <td>...</td>\n",
       "      <td>...</td>\n",
       "      <td>...</td>\n",
       "      <td>...</td>\n",
       "      <td>...</td>\n",
       "      <td>...</td>\n",
       "    </tr>\n",
       "    <tr>\n",
       "      <th>886</th>\n",
       "      <td>887</td>\n",
       "      <td>0</td>\n",
       "      <td>2</td>\n",
       "      <td>Montvila, Rev. Juozas</td>\n",
       "      <td>male</td>\n",
       "      <td>27.0</td>\n",
       "      <td>0</td>\n",
       "      <td>0</td>\n",
       "      <td>211536</td>\n",
       "      <td>13.0000</td>\n",
       "      <td>NaN</td>\n",
       "      <td>S</td>\n",
       "    </tr>\n",
       "    <tr>\n",
       "      <th>887</th>\n",
       "      <td>888</td>\n",
       "      <td>1</td>\n",
       "      <td>1</td>\n",
       "      <td>Graham, Miss. Margaret Edith</td>\n",
       "      <td>female</td>\n",
       "      <td>19.0</td>\n",
       "      <td>0</td>\n",
       "      <td>0</td>\n",
       "      <td>112053</td>\n",
       "      <td>30.0000</td>\n",
       "      <td>B42</td>\n",
       "      <td>S</td>\n",
       "    </tr>\n",
       "    <tr>\n",
       "      <th>888</th>\n",
       "      <td>889</td>\n",
       "      <td>0</td>\n",
       "      <td>3</td>\n",
       "      <td>Johnston, Miss. Catherine Helen \"Carrie\"</td>\n",
       "      <td>female</td>\n",
       "      <td>NaN</td>\n",
       "      <td>1</td>\n",
       "      <td>2</td>\n",
       "      <td>W./C. 6607</td>\n",
       "      <td>23.4500</td>\n",
       "      <td>NaN</td>\n",
       "      <td>S</td>\n",
       "    </tr>\n",
       "    <tr>\n",
       "      <th>889</th>\n",
       "      <td>890</td>\n",
       "      <td>1</td>\n",
       "      <td>1</td>\n",
       "      <td>Behr, Mr. Karl Howell</td>\n",
       "      <td>male</td>\n",
       "      <td>26.0</td>\n",
       "      <td>0</td>\n",
       "      <td>0</td>\n",
       "      <td>111369</td>\n",
       "      <td>30.0000</td>\n",
       "      <td>C148</td>\n",
       "      <td>C</td>\n",
       "    </tr>\n",
       "    <tr>\n",
       "      <th>890</th>\n",
       "      <td>891</td>\n",
       "      <td>0</td>\n",
       "      <td>3</td>\n",
       "      <td>Dooley, Mr. Patrick</td>\n",
       "      <td>male</td>\n",
       "      <td>32.0</td>\n",
       "      <td>0</td>\n",
       "      <td>0</td>\n",
       "      <td>370376</td>\n",
       "      <td>7.7500</td>\n",
       "      <td>NaN</td>\n",
       "      <td>Q</td>\n",
       "    </tr>\n",
       "  </tbody>\n",
       "</table>\n",
       "<p>891 rows × 12 columns</p>\n",
       "</div>"
      ],
      "text/plain": [
       "     PassengerId  Survived  Pclass  \\\n",
       "0              1         0       3   \n",
       "1              2         1       1   \n",
       "2              3         1       3   \n",
       "3              4         1       1   \n",
       "4              5         0       3   \n",
       "..           ...       ...     ...   \n",
       "886          887         0       2   \n",
       "887          888         1       1   \n",
       "888          889         0       3   \n",
       "889          890         1       1   \n",
       "890          891         0       3   \n",
       "\n",
       "                                                  Name     Sex   Age  SibSp  \\\n",
       "0                              Braund, Mr. Owen Harris    male  22.0      1   \n",
       "1    Cumings, Mrs. John Bradley (Florence Briggs Th...  female  38.0      1   \n",
       "2                               Heikkinen, Miss. Laina  female  26.0      0   \n",
       "3         Futrelle, Mrs. Jacques Heath (Lily May Peel)  female  35.0      1   \n",
       "4                             Allen, Mr. William Henry    male  35.0      0   \n",
       "..                                                 ...     ...   ...    ...   \n",
       "886                              Montvila, Rev. Juozas    male  27.0      0   \n",
       "887                       Graham, Miss. Margaret Edith  female  19.0      0   \n",
       "888           Johnston, Miss. Catherine Helen \"Carrie\"  female   NaN      1   \n",
       "889                              Behr, Mr. Karl Howell    male  26.0      0   \n",
       "890                                Dooley, Mr. Patrick    male  32.0      0   \n",
       "\n",
       "     Parch            Ticket     Fare Cabin Embarked  \n",
       "0        0         A/5 21171   7.2500   NaN        S  \n",
       "1        0          PC 17599  71.2833   C85        C  \n",
       "2        0  STON/O2. 3101282   7.9250   NaN        S  \n",
       "3        0            113803  53.1000  C123        S  \n",
       "4        0            373450   8.0500   NaN        S  \n",
       "..     ...               ...      ...   ...      ...  \n",
       "886      0            211536  13.0000   NaN        S  \n",
       "887      0            112053  30.0000   B42        S  \n",
       "888      2        W./C. 6607  23.4500   NaN        S  \n",
       "889      0            111369  30.0000  C148        C  \n",
       "890      0            370376   7.7500   NaN        Q  \n",
       "\n",
       "[891 rows x 12 columns]"
      ]
     },
     "execution_count": 2,
     "metadata": {},
     "output_type": "execute_result"
    }
   ],
   "source": [
    "df = pd.read_csv('/kaggle/input/titanic/train.csv')\n",
    "df_test = pd.read_csv('/kaggle/input/titanic/test.csv')\n",
    "df"
   ]
  },
  {
   "cell_type": "code",
   "execution_count": 3,
   "id": "2da4f7a4",
   "metadata": {
    "execution": {
     "iopub.execute_input": "2023-03-03T21:20:45.501100Z",
     "iopub.status.busy": "2023-03-03T21:20:45.500418Z",
     "iopub.status.idle": "2023-03-03T21:20:45.517564Z",
     "shell.execute_reply": "2023-03-03T21:20:45.516346Z"
    },
    "id": "uLws5hXTCTsw",
    "outputId": "167de957-a949-400c-e31f-ac3c565b8772",
    "papermill": {
     "duration": 0.034639,
     "end_time": "2023-03-03T21:20:45.519840",
     "exception": false,
     "start_time": "2023-03-03T21:20:45.485201",
     "status": "completed"
    },
    "tags": []
   },
   "outputs": [
    {
     "data": {
      "text/html": [
       "<div>\n",
       "<style scoped>\n",
       "    .dataframe tbody tr th:only-of-type {\n",
       "        vertical-align: middle;\n",
       "    }\n",
       "\n",
       "    .dataframe tbody tr th {\n",
       "        vertical-align: top;\n",
       "    }\n",
       "\n",
       "    .dataframe thead th {\n",
       "        text-align: right;\n",
       "    }\n",
       "</style>\n",
       "<table border=\"1\" class=\"dataframe\">\n",
       "  <thead>\n",
       "    <tr style=\"text-align: right;\">\n",
       "      <th></th>\n",
       "      <th>PassengerId</th>\n",
       "      <th>Survived</th>\n",
       "      <th>Pclass</th>\n",
       "      <th>Name</th>\n",
       "      <th>Sex</th>\n",
       "      <th>Age</th>\n",
       "      <th>SibSp</th>\n",
       "      <th>Parch</th>\n",
       "      <th>Ticket</th>\n",
       "      <th>Fare</th>\n",
       "      <th>Cabin</th>\n",
       "      <th>Embarked</th>\n",
       "    </tr>\n",
       "  </thead>\n",
       "  <tbody>\n",
       "    <tr>\n",
       "      <th>0</th>\n",
       "      <td>1</td>\n",
       "      <td>0</td>\n",
       "      <td>3</td>\n",
       "      <td>Braund, Mr. Owen Harris</td>\n",
       "      <td>male</td>\n",
       "      <td>22.0</td>\n",
       "      <td>1</td>\n",
       "      <td>0</td>\n",
       "      <td>A/5 21171</td>\n",
       "      <td>7.2500</td>\n",
       "      <td>NaN</td>\n",
       "      <td>S</td>\n",
       "    </tr>\n",
       "    <tr>\n",
       "      <th>1</th>\n",
       "      <td>2</td>\n",
       "      <td>1</td>\n",
       "      <td>1</td>\n",
       "      <td>Cumings, Mrs. John Bradley (Florence Briggs Th...</td>\n",
       "      <td>female</td>\n",
       "      <td>38.0</td>\n",
       "      <td>1</td>\n",
       "      <td>0</td>\n",
       "      <td>PC 17599</td>\n",
       "      <td>71.2833</td>\n",
       "      <td>C85</td>\n",
       "      <td>C</td>\n",
       "    </tr>\n",
       "    <tr>\n",
       "      <th>2</th>\n",
       "      <td>3</td>\n",
       "      <td>1</td>\n",
       "      <td>3</td>\n",
       "      <td>Heikkinen, Miss. Laina</td>\n",
       "      <td>female</td>\n",
       "      <td>26.0</td>\n",
       "      <td>0</td>\n",
       "      <td>0</td>\n",
       "      <td>STON/O2. 3101282</td>\n",
       "      <td>7.9250</td>\n",
       "      <td>NaN</td>\n",
       "      <td>S</td>\n",
       "    </tr>\n",
       "    <tr>\n",
       "      <th>3</th>\n",
       "      <td>4</td>\n",
       "      <td>1</td>\n",
       "      <td>1</td>\n",
       "      <td>Futrelle, Mrs. Jacques Heath (Lily May Peel)</td>\n",
       "      <td>female</td>\n",
       "      <td>35.0</td>\n",
       "      <td>1</td>\n",
       "      <td>0</td>\n",
       "      <td>113803</td>\n",
       "      <td>53.1000</td>\n",
       "      <td>C123</td>\n",
       "      <td>S</td>\n",
       "    </tr>\n",
       "    <tr>\n",
       "      <th>4</th>\n",
       "      <td>5</td>\n",
       "      <td>0</td>\n",
       "      <td>3</td>\n",
       "      <td>Allen, Mr. William Henry</td>\n",
       "      <td>male</td>\n",
       "      <td>35.0</td>\n",
       "      <td>0</td>\n",
       "      <td>0</td>\n",
       "      <td>373450</td>\n",
       "      <td>8.0500</td>\n",
       "      <td>NaN</td>\n",
       "      <td>S</td>\n",
       "    </tr>\n",
       "  </tbody>\n",
       "</table>\n",
       "</div>"
      ],
      "text/plain": [
       "   PassengerId  Survived  Pclass  \\\n",
       "0            1         0       3   \n",
       "1            2         1       1   \n",
       "2            3         1       3   \n",
       "3            4         1       1   \n",
       "4            5         0       3   \n",
       "\n",
       "                                                Name     Sex   Age  SibSp  \\\n",
       "0                            Braund, Mr. Owen Harris    male  22.0      1   \n",
       "1  Cumings, Mrs. John Bradley (Florence Briggs Th...  female  38.0      1   \n",
       "2                             Heikkinen, Miss. Laina  female  26.0      0   \n",
       "3       Futrelle, Mrs. Jacques Heath (Lily May Peel)  female  35.0      1   \n",
       "4                           Allen, Mr. William Henry    male  35.0      0   \n",
       "\n",
       "   Parch            Ticket     Fare Cabin Embarked  \n",
       "0      0         A/5 21171   7.2500   NaN        S  \n",
       "1      0          PC 17599  71.2833   C85        C  \n",
       "2      0  STON/O2. 3101282   7.9250   NaN        S  \n",
       "3      0            113803  53.1000  C123        S  \n",
       "4      0            373450   8.0500   NaN        S  "
      ]
     },
     "execution_count": 3,
     "metadata": {},
     "output_type": "execute_result"
    }
   ],
   "source": [
    "df.head()"
   ]
  },
  {
   "cell_type": "code",
   "execution_count": 4,
   "id": "c43d021f",
   "metadata": {
    "execution": {
     "iopub.execute_input": "2023-03-03T21:20:45.548520Z",
     "iopub.status.busy": "2023-03-03T21:20:45.548094Z",
     "iopub.status.idle": "2023-03-03T21:20:45.570595Z",
     "shell.execute_reply": "2023-03-03T21:20:45.569559Z"
    },
    "papermill": {
     "duration": 0.039592,
     "end_time": "2023-03-03T21:20:45.572762",
     "exception": false,
     "start_time": "2023-03-03T21:20:45.533170",
     "status": "completed"
    },
    "tags": []
   },
   "outputs": [
    {
     "data": {
      "text/html": [
       "<div>\n",
       "<style scoped>\n",
       "    .dataframe tbody tr th:only-of-type {\n",
       "        vertical-align: middle;\n",
       "    }\n",
       "\n",
       "    .dataframe tbody tr th {\n",
       "        vertical-align: top;\n",
       "    }\n",
       "\n",
       "    .dataframe thead th {\n",
       "        text-align: right;\n",
       "    }\n",
       "</style>\n",
       "<table border=\"1\" class=\"dataframe\">\n",
       "  <thead>\n",
       "    <tr style=\"text-align: right;\">\n",
       "      <th></th>\n",
       "      <th>PassengerId</th>\n",
       "      <th>Pclass</th>\n",
       "      <th>Name</th>\n",
       "      <th>Sex</th>\n",
       "      <th>Age</th>\n",
       "      <th>SibSp</th>\n",
       "      <th>Parch</th>\n",
       "      <th>Ticket</th>\n",
       "      <th>Fare</th>\n",
       "      <th>Cabin</th>\n",
       "      <th>Embarked</th>\n",
       "    </tr>\n",
       "  </thead>\n",
       "  <tbody>\n",
       "    <tr>\n",
       "      <th>0</th>\n",
       "      <td>892</td>\n",
       "      <td>3</td>\n",
       "      <td>Kelly, Mr. James</td>\n",
       "      <td>male</td>\n",
       "      <td>34.5</td>\n",
       "      <td>0</td>\n",
       "      <td>0</td>\n",
       "      <td>330911</td>\n",
       "      <td>7.8292</td>\n",
       "      <td>NaN</td>\n",
       "      <td>Q</td>\n",
       "    </tr>\n",
       "    <tr>\n",
       "      <th>1</th>\n",
       "      <td>893</td>\n",
       "      <td>3</td>\n",
       "      <td>Wilkes, Mrs. James (Ellen Needs)</td>\n",
       "      <td>female</td>\n",
       "      <td>47.0</td>\n",
       "      <td>1</td>\n",
       "      <td>0</td>\n",
       "      <td>363272</td>\n",
       "      <td>7.0000</td>\n",
       "      <td>NaN</td>\n",
       "      <td>S</td>\n",
       "    </tr>\n",
       "    <tr>\n",
       "      <th>2</th>\n",
       "      <td>894</td>\n",
       "      <td>2</td>\n",
       "      <td>Myles, Mr. Thomas Francis</td>\n",
       "      <td>male</td>\n",
       "      <td>62.0</td>\n",
       "      <td>0</td>\n",
       "      <td>0</td>\n",
       "      <td>240276</td>\n",
       "      <td>9.6875</td>\n",
       "      <td>NaN</td>\n",
       "      <td>Q</td>\n",
       "    </tr>\n",
       "    <tr>\n",
       "      <th>3</th>\n",
       "      <td>895</td>\n",
       "      <td>3</td>\n",
       "      <td>Wirz, Mr. Albert</td>\n",
       "      <td>male</td>\n",
       "      <td>27.0</td>\n",
       "      <td>0</td>\n",
       "      <td>0</td>\n",
       "      <td>315154</td>\n",
       "      <td>8.6625</td>\n",
       "      <td>NaN</td>\n",
       "      <td>S</td>\n",
       "    </tr>\n",
       "    <tr>\n",
       "      <th>4</th>\n",
       "      <td>896</td>\n",
       "      <td>3</td>\n",
       "      <td>Hirvonen, Mrs. Alexander (Helga E Lindqvist)</td>\n",
       "      <td>female</td>\n",
       "      <td>22.0</td>\n",
       "      <td>1</td>\n",
       "      <td>1</td>\n",
       "      <td>3101298</td>\n",
       "      <td>12.2875</td>\n",
       "      <td>NaN</td>\n",
       "      <td>S</td>\n",
       "    </tr>\n",
       "    <tr>\n",
       "      <th>...</th>\n",
       "      <td>...</td>\n",
       "      <td>...</td>\n",
       "      <td>...</td>\n",
       "      <td>...</td>\n",
       "      <td>...</td>\n",
       "      <td>...</td>\n",
       "      <td>...</td>\n",
       "      <td>...</td>\n",
       "      <td>...</td>\n",
       "      <td>...</td>\n",
       "      <td>...</td>\n",
       "    </tr>\n",
       "    <tr>\n",
       "      <th>413</th>\n",
       "      <td>1305</td>\n",
       "      <td>3</td>\n",
       "      <td>Spector, Mr. Woolf</td>\n",
       "      <td>male</td>\n",
       "      <td>NaN</td>\n",
       "      <td>0</td>\n",
       "      <td>0</td>\n",
       "      <td>A.5. 3236</td>\n",
       "      <td>8.0500</td>\n",
       "      <td>NaN</td>\n",
       "      <td>S</td>\n",
       "    </tr>\n",
       "    <tr>\n",
       "      <th>414</th>\n",
       "      <td>1306</td>\n",
       "      <td>1</td>\n",
       "      <td>Oliva y Ocana, Dona. Fermina</td>\n",
       "      <td>female</td>\n",
       "      <td>39.0</td>\n",
       "      <td>0</td>\n",
       "      <td>0</td>\n",
       "      <td>PC 17758</td>\n",
       "      <td>108.9000</td>\n",
       "      <td>C105</td>\n",
       "      <td>C</td>\n",
       "    </tr>\n",
       "    <tr>\n",
       "      <th>415</th>\n",
       "      <td>1307</td>\n",
       "      <td>3</td>\n",
       "      <td>Saether, Mr. Simon Sivertsen</td>\n",
       "      <td>male</td>\n",
       "      <td>38.5</td>\n",
       "      <td>0</td>\n",
       "      <td>0</td>\n",
       "      <td>SOTON/O.Q. 3101262</td>\n",
       "      <td>7.2500</td>\n",
       "      <td>NaN</td>\n",
       "      <td>S</td>\n",
       "    </tr>\n",
       "    <tr>\n",
       "      <th>416</th>\n",
       "      <td>1308</td>\n",
       "      <td>3</td>\n",
       "      <td>Ware, Mr. Frederick</td>\n",
       "      <td>male</td>\n",
       "      <td>NaN</td>\n",
       "      <td>0</td>\n",
       "      <td>0</td>\n",
       "      <td>359309</td>\n",
       "      <td>8.0500</td>\n",
       "      <td>NaN</td>\n",
       "      <td>S</td>\n",
       "    </tr>\n",
       "    <tr>\n",
       "      <th>417</th>\n",
       "      <td>1309</td>\n",
       "      <td>3</td>\n",
       "      <td>Peter, Master. Michael J</td>\n",
       "      <td>male</td>\n",
       "      <td>NaN</td>\n",
       "      <td>1</td>\n",
       "      <td>1</td>\n",
       "      <td>2668</td>\n",
       "      <td>22.3583</td>\n",
       "      <td>NaN</td>\n",
       "      <td>C</td>\n",
       "    </tr>\n",
       "  </tbody>\n",
       "</table>\n",
       "<p>418 rows × 11 columns</p>\n",
       "</div>"
      ],
      "text/plain": [
       "     PassengerId  Pclass                                          Name  \\\n",
       "0            892       3                              Kelly, Mr. James   \n",
       "1            893       3              Wilkes, Mrs. James (Ellen Needs)   \n",
       "2            894       2                     Myles, Mr. Thomas Francis   \n",
       "3            895       3                              Wirz, Mr. Albert   \n",
       "4            896       3  Hirvonen, Mrs. Alexander (Helga E Lindqvist)   \n",
       "..           ...     ...                                           ...   \n",
       "413         1305       3                            Spector, Mr. Woolf   \n",
       "414         1306       1                  Oliva y Ocana, Dona. Fermina   \n",
       "415         1307       3                  Saether, Mr. Simon Sivertsen   \n",
       "416         1308       3                           Ware, Mr. Frederick   \n",
       "417         1309       3                      Peter, Master. Michael J   \n",
       "\n",
       "        Sex   Age  SibSp  Parch              Ticket      Fare Cabin Embarked  \n",
       "0      male  34.5      0      0              330911    7.8292   NaN        Q  \n",
       "1    female  47.0      1      0              363272    7.0000   NaN        S  \n",
       "2      male  62.0      0      0              240276    9.6875   NaN        Q  \n",
       "3      male  27.0      0      0              315154    8.6625   NaN        S  \n",
       "4    female  22.0      1      1             3101298   12.2875   NaN        S  \n",
       "..      ...   ...    ...    ...                 ...       ...   ...      ...  \n",
       "413    male   NaN      0      0           A.5. 3236    8.0500   NaN        S  \n",
       "414  female  39.0      0      0            PC 17758  108.9000  C105        C  \n",
       "415    male  38.5      0      0  SOTON/O.Q. 3101262    7.2500   NaN        S  \n",
       "416    male   NaN      0      0              359309    8.0500   NaN        S  \n",
       "417    male   NaN      1      1                2668   22.3583   NaN        C  \n",
       "\n",
       "[418 rows x 11 columns]"
      ]
     },
     "execution_count": 4,
     "metadata": {},
     "output_type": "execute_result"
    }
   ],
   "source": [
    "df_test"
   ]
  },
  {
   "cell_type": "markdown",
   "id": "9e8d068d",
   "metadata": {
    "id": "lqSCtyv8oYtH",
    "papermill": {
     "duration": 0.013599,
     "end_time": "2023-03-03T21:20:45.600899",
     "exception": false,
     "start_time": "2023-03-03T21:20:45.587300",
     "status": "completed"
    },
    "tags": []
   },
   "source": [
    "# **EDA AND VISUALIZATION**"
   ]
  },
  {
   "cell_type": "code",
   "execution_count": 5,
   "id": "1599f450",
   "metadata": {
    "execution": {
     "iopub.execute_input": "2023-03-03T21:20:45.631592Z",
     "iopub.status.busy": "2023-03-03T21:20:45.631137Z",
     "iopub.status.idle": "2023-03-03T21:20:45.673048Z",
     "shell.execute_reply": "2023-03-03T21:20:45.671817Z"
    },
    "id": "FXLJyVwgv55X",
    "outputId": "48c475ee-3ed4-457b-c41e-d31059feb03c",
    "papermill": {
     "duration": 0.060427,
     "end_time": "2023-03-03T21:20:45.675112",
     "exception": false,
     "start_time": "2023-03-03T21:20:45.614685",
     "status": "completed"
    },
    "tags": []
   },
   "outputs": [
    {
     "data": {
      "text/html": [
       "<div>\n",
       "<style scoped>\n",
       "    .dataframe tbody tr th:only-of-type {\n",
       "        vertical-align: middle;\n",
       "    }\n",
       "\n",
       "    .dataframe tbody tr th {\n",
       "        vertical-align: top;\n",
       "    }\n",
       "\n",
       "    .dataframe thead th {\n",
       "        text-align: right;\n",
       "    }\n",
       "</style>\n",
       "<table border=\"1\" class=\"dataframe\">\n",
       "  <thead>\n",
       "    <tr style=\"text-align: right;\">\n",
       "      <th></th>\n",
       "      <th>PassengerId</th>\n",
       "      <th>Survived</th>\n",
       "      <th>Pclass</th>\n",
       "      <th>Age</th>\n",
       "      <th>SibSp</th>\n",
       "      <th>Parch</th>\n",
       "      <th>Fare</th>\n",
       "    </tr>\n",
       "  </thead>\n",
       "  <tbody>\n",
       "    <tr>\n",
       "      <th>count</th>\n",
       "      <td>891.000000</td>\n",
       "      <td>891.000000</td>\n",
       "      <td>891.000000</td>\n",
       "      <td>714.000000</td>\n",
       "      <td>891.000000</td>\n",
       "      <td>891.000000</td>\n",
       "      <td>891.000000</td>\n",
       "    </tr>\n",
       "    <tr>\n",
       "      <th>mean</th>\n",
       "      <td>446.000000</td>\n",
       "      <td>0.383838</td>\n",
       "      <td>2.308642</td>\n",
       "      <td>29.699118</td>\n",
       "      <td>0.523008</td>\n",
       "      <td>0.381594</td>\n",
       "      <td>32.204208</td>\n",
       "    </tr>\n",
       "    <tr>\n",
       "      <th>std</th>\n",
       "      <td>257.353842</td>\n",
       "      <td>0.486592</td>\n",
       "      <td>0.836071</td>\n",
       "      <td>14.526497</td>\n",
       "      <td>1.102743</td>\n",
       "      <td>0.806057</td>\n",
       "      <td>49.693429</td>\n",
       "    </tr>\n",
       "    <tr>\n",
       "      <th>min</th>\n",
       "      <td>1.000000</td>\n",
       "      <td>0.000000</td>\n",
       "      <td>1.000000</td>\n",
       "      <td>0.420000</td>\n",
       "      <td>0.000000</td>\n",
       "      <td>0.000000</td>\n",
       "      <td>0.000000</td>\n",
       "    </tr>\n",
       "    <tr>\n",
       "      <th>25%</th>\n",
       "      <td>223.500000</td>\n",
       "      <td>0.000000</td>\n",
       "      <td>2.000000</td>\n",
       "      <td>20.125000</td>\n",
       "      <td>0.000000</td>\n",
       "      <td>0.000000</td>\n",
       "      <td>7.910400</td>\n",
       "    </tr>\n",
       "    <tr>\n",
       "      <th>50%</th>\n",
       "      <td>446.000000</td>\n",
       "      <td>0.000000</td>\n",
       "      <td>3.000000</td>\n",
       "      <td>28.000000</td>\n",
       "      <td>0.000000</td>\n",
       "      <td>0.000000</td>\n",
       "      <td>14.454200</td>\n",
       "    </tr>\n",
       "    <tr>\n",
       "      <th>75%</th>\n",
       "      <td>668.500000</td>\n",
       "      <td>1.000000</td>\n",
       "      <td>3.000000</td>\n",
       "      <td>38.000000</td>\n",
       "      <td>1.000000</td>\n",
       "      <td>0.000000</td>\n",
       "      <td>31.000000</td>\n",
       "    </tr>\n",
       "    <tr>\n",
       "      <th>max</th>\n",
       "      <td>891.000000</td>\n",
       "      <td>1.000000</td>\n",
       "      <td>3.000000</td>\n",
       "      <td>80.000000</td>\n",
       "      <td>8.000000</td>\n",
       "      <td>6.000000</td>\n",
       "      <td>512.329200</td>\n",
       "    </tr>\n",
       "  </tbody>\n",
       "</table>\n",
       "</div>"
      ],
      "text/plain": [
       "       PassengerId    Survived      Pclass         Age       SibSp  \\\n",
       "count   891.000000  891.000000  891.000000  714.000000  891.000000   \n",
       "mean    446.000000    0.383838    2.308642   29.699118    0.523008   \n",
       "std     257.353842    0.486592    0.836071   14.526497    1.102743   \n",
       "min       1.000000    0.000000    1.000000    0.420000    0.000000   \n",
       "25%     223.500000    0.000000    2.000000   20.125000    0.000000   \n",
       "50%     446.000000    0.000000    3.000000   28.000000    0.000000   \n",
       "75%     668.500000    1.000000    3.000000   38.000000    1.000000   \n",
       "max     891.000000    1.000000    3.000000   80.000000    8.000000   \n",
       "\n",
       "            Parch        Fare  \n",
       "count  891.000000  891.000000  \n",
       "mean     0.381594   32.204208  \n",
       "std      0.806057   49.693429  \n",
       "min      0.000000    0.000000  \n",
       "25%      0.000000    7.910400  \n",
       "50%      0.000000   14.454200  \n",
       "75%      0.000000   31.000000  \n",
       "max      6.000000  512.329200  "
      ]
     },
     "execution_count": 5,
     "metadata": {},
     "output_type": "execute_result"
    }
   ],
   "source": [
    "df.describe()"
   ]
  },
  {
   "cell_type": "code",
   "execution_count": 6,
   "id": "fc780068",
   "metadata": {
    "execution": {
     "iopub.execute_input": "2023-03-03T21:20:45.704259Z",
     "iopub.status.busy": "2023-03-03T21:20:45.703902Z",
     "iopub.status.idle": "2023-03-03T21:20:45.713477Z",
     "shell.execute_reply": "2023-03-03T21:20:45.711848Z"
    },
    "id": "5ucVNDHcwEMM",
    "outputId": "a4316eee-c586-4295-aed5-d0becb31384b",
    "papermill": {
     "duration": 0.026923,
     "end_time": "2023-03-03T21:20:45.715665",
     "exception": false,
     "start_time": "2023-03-03T21:20:45.688742",
     "status": "completed"
    },
    "tags": []
   },
   "outputs": [
    {
     "data": {
      "text/plain": [
       "PassengerId      int64\n",
       "Survived         int64\n",
       "Pclass           int64\n",
       "Name            object\n",
       "Sex             object\n",
       "Age            float64\n",
       "SibSp            int64\n",
       "Parch            int64\n",
       "Ticket          object\n",
       "Fare           float64\n",
       "Cabin           object\n",
       "Embarked        object\n",
       "dtype: object"
      ]
     },
     "execution_count": 6,
     "metadata": {},
     "output_type": "execute_result"
    }
   ],
   "source": [
    "df.dtypes"
   ]
  },
  {
   "cell_type": "code",
   "execution_count": 7,
   "id": "b139f7d9",
   "metadata": {
    "execution": {
     "iopub.execute_input": "2023-03-03T21:20:45.745688Z",
     "iopub.status.busy": "2023-03-03T21:20:45.745261Z",
     "iopub.status.idle": "2023-03-03T21:20:45.754030Z",
     "shell.execute_reply": "2023-03-03T21:20:45.752726Z"
    },
    "papermill": {
     "duration": 0.027043,
     "end_time": "2023-03-03T21:20:45.756771",
     "exception": false,
     "start_time": "2023-03-03T21:20:45.729728",
     "status": "completed"
    },
    "tags": []
   },
   "outputs": [
    {
     "data": {
      "text/plain": [
       "PassengerId      int64\n",
       "Pclass           int64\n",
       "Name            object\n",
       "Sex             object\n",
       "Age            float64\n",
       "SibSp            int64\n",
       "Parch            int64\n",
       "Ticket          object\n",
       "Fare           float64\n",
       "Cabin           object\n",
       "Embarked        object\n",
       "dtype: object"
      ]
     },
     "execution_count": 7,
     "metadata": {},
     "output_type": "execute_result"
    }
   ],
   "source": [
    "df_test.dtypes"
   ]
  },
  {
   "cell_type": "code",
   "execution_count": 8,
   "id": "f175ce4f",
   "metadata": {
    "execution": {
     "iopub.execute_input": "2023-03-03T21:20:45.787077Z",
     "iopub.status.busy": "2023-03-03T21:20:45.786655Z",
     "iopub.status.idle": "2023-03-03T21:20:46.006131Z",
     "shell.execute_reply": "2023-03-03T21:20:46.005104Z"
    },
    "id": "AFzNX7ZTD0yb",
    "outputId": "82fab5f8-716e-448f-86b7-87b117ae7a6b",
    "papermill": {
     "duration": 0.236768,
     "end_time": "2023-03-03T21:20:46.008020",
     "exception": false,
     "start_time": "2023-03-03T21:20:45.771252",
     "status": "completed"
    },
    "tags": []
   },
   "outputs": [
    {
     "data": {
      "text/plain": [
       "<AxesSubplot:xlabel='Survived', ylabel='count'>"
      ]
     },
     "execution_count": 8,
     "metadata": {},
     "output_type": "execute_result"
    },
    {
     "data": {
      "image/png": "[encoded data removed]",
      "text/plain": [
       "<Figure size 640x480 with 1 Axes>"
      ]
     },
     "metadata": {},
     "output_type": "display_data"
    }
   ],
   "source": [
    "sns.countplot(x='Survived', data = df, hue ='Pclass')"
   ]
  },
  {
   "cell_type": "code",
   "execution_count": 9,
   "id": "4293771e",
   "metadata": {
    "execution": {
     "iopub.execute_input": "2023-03-03T21:20:46.038751Z",
     "iopub.status.busy": "2023-03-03T21:20:46.038332Z",
     "iopub.status.idle": "2023-03-03T21:20:46.264251Z",
     "shell.execute_reply": "2023-03-03T21:20:46.262716Z"
    },
    "id": "vLK4PViYHKgi",
    "outputId": "579ef2b2-844b-4110-b06d-a4845a01b0d1",
    "papermill": {
     "duration": 0.244384,
     "end_time": "2023-03-03T21:20:46.266997",
     "exception": false,
     "start_time": "2023-03-03T21:20:46.022613",
     "status": "completed"
    },
    "tags": []
   },
   "outputs": [
    {
     "name": "stderr",
     "output_type": "stream",
     "text": [
      "/opt/conda/lib/python3.7/site-packages/ipykernel_launcher.py:1: UserWarning: \n",
      "\n",
      "`distplot` is a deprecated function and will be removed in seaborn v0.14.0.\n",
      "\n",
      "Please adapt your code to use either `displot` (a figure-level function with\n",
      "similar flexibility) or `histplot` (an axes-level function for histograms).\n",
      "\n",
      "For a guide to updating your code to use the new functions, please see\n",
      "https://gist.github.com/mwaskom/de44147ed2974457ad6372750bbe5751\n",
      "\n",
      "  \"\"\"Entry point for launching an IPython kernel.\n"
     ]
    },
    {
     "data": {
      "text/plain": [
       "<AxesSubplot:xlabel='Age', ylabel='Density'>"
      ]
     },
     "execution_count": 9,
     "metadata": {},
     "output_type": "execute_result"
    },
    {
     "data": {
      "image/png": "[encoded data removed]",
      "text/plain": [
       "<Figure size 640x480 with 1 Axes>"
      ]
     },
     "metadata": {},
     "output_type": "display_data"
    }
   ],
   "source": [
    "sns.distplot(df['Age'])"
   ]
  },
  {
   "cell_type": "code",
   "execution_count": 10,
   "id": "9fbc610e",
   "metadata": {
    "execution": {
     "iopub.execute_input": "2023-03-03T21:20:46.298697Z",
     "iopub.status.busy": "2023-03-03T21:20:46.297699Z",
     "iopub.status.idle": "2023-03-03T21:20:46.382672Z",
     "shell.execute_reply": "2023-03-03T21:20:46.381860Z"
    },
    "id": "3y4Nqji2oghe",
    "outputId": "586d983f-b50f-45e6-f96b-7b284a73d4be",
    "papermill": {
     "duration": 0.102816,
     "end_time": "2023-03-03T21:20:46.384754",
     "exception": false,
     "start_time": "2023-03-03T21:20:46.281938",
     "status": "completed"
    },
    "tags": []
   },
   "outputs": [
    {
     "data": {
      "image/png": "[encoded data removed]",
      "text/plain": [
       "<Figure size 640x480 with 1 Axes>"
      ]
     },
     "metadata": {},
     "output_type": "display_data"
    }
   ],
   "source": [
    "plt.pie(df.Sex.value_counts(),[0.1,0],labels=[\"Male\",\"Female\"],autopct=\"%1.1f%%\",colors=[\"blue\",\"pink\"])\n",
    "plt.title(\"Sex\")\n",
    "plt.show()"
   ]
  },
  {
   "cell_type": "code",
   "execution_count": 11,
   "id": "ef0455ad",
   "metadata": {
    "execution": {
     "iopub.execute_input": "2023-03-03T21:20:46.427078Z",
     "iopub.status.busy": "2023-03-03T21:20:46.426263Z",
     "iopub.status.idle": "2023-03-03T21:20:46.631947Z",
     "shell.execute_reply": "2023-03-03T21:20:46.630937Z"
    },
    "id": "i5TTaAVbvb56",
    "outputId": "dc3726b0-4be8-4408-a70c-c37b086452ef",
    "papermill": {
     "duration": 0.229787,
     "end_time": "2023-03-03T21:20:46.634445",
     "exception": false,
     "start_time": "2023-03-03T21:20:46.404658",
     "status": "completed"
    },
    "tags": []
   },
   "outputs": [
    {
     "data": {
      "image/png": "[encoded data removed]",
      "text/plain": [
       "<Figure size 640x480 with 1 Axes>"
      ]
     },
     "metadata": {},
     "output_type": "display_data"
    }
   ],
   "source": [
    "class_fare = df.pivot_table(index='Pclass', values='Fare', aggfunc=np.sum)\n",
    "class_fare.plot(kind='bar')\n",
    "plt.xlabel('Pclass')\n",
    "plt.ylabel('Total Fare')\n",
    "plt.xticks(rotation=0)\n",
    "plt.show()"
   ]
  },
  {
   "cell_type": "code",
   "execution_count": 12,
   "id": "638d92f8",
   "metadata": {
    "execution": {
     "iopub.execute_input": "2023-03-03T21:20:46.668474Z",
     "iopub.status.busy": "2023-03-03T21:20:46.667685Z",
     "iopub.status.idle": "2023-03-03T21:20:46.949182Z",
     "shell.execute_reply": "2023-03-03T21:20:46.948160Z"
    },
    "id": "EBHR7nBSvXyB",
    "outputId": "05707886-2b80-49fb-e23a-e072e687d0cb",
    "papermill": {
     "duration": 0.300987,
     "end_time": "2023-03-03T21:20:46.951316",
     "exception": false,
     "start_time": "2023-03-03T21:20:46.650329",
     "status": "completed"
    },
    "tags": []
   },
   "outputs": [
    {
     "data": {
      "text/plain": [
       "<AxesSubplot:xlabel='Pclass', ylabel='Fare'>"
      ]
     },
     "execution_count": 12,
     "metadata": {},
     "output_type": "execute_result"
    },
    {
     "data": {
      "image/png": "[encoded data removed]",
      "text/plain": [
       "<Figure size 640x480 with 1 Axes>"
      ]
     },
     "metadata": {},
     "output_type": "display_data"
    }
   ],
   "source": [
    "sns.barplot(data=df, x='Pclass', y='Fare', hue='Survived')"
   ]
  },
  {
   "cell_type": "code",
   "execution_count": 13,
   "id": "5bbcf1b0",
   "metadata": {
    "execution": {
     "iopub.execute_input": "2023-03-03T21:20:46.984517Z",
     "iopub.status.busy": "2023-03-03T21:20:46.984147Z",
     "iopub.status.idle": "2023-03-03T21:20:47.138653Z",
     "shell.execute_reply": "2023-03-03T21:20:47.137092Z"
    },
    "id": "IXxVJhAVwQaL",
    "outputId": "7a040f46-34b6-4843-a48a-9756a00b4cea",
    "papermill": {
     "duration": 0.174179,
     "end_time": "2023-03-03T21:20:47.141413",
     "exception": false,
     "start_time": "2023-03-03T21:20:46.967234",
     "status": "completed"
    },
    "tags": []
   },
   "outputs": [
    {
     "data": {
      "text/plain": [
       "<AxesSubplot:xlabel='Pclass', ylabel='Age'>"
      ]
     },
     "execution_count": 13,
     "metadata": {},
     "output_type": "execute_result"
    },
    {
     "data": {
      "image/png": "[encoded data removed]",
      "text/plain": [
       "<Figure size 640x480 with 1 Axes>"
      ]
     },
     "metadata": {},
     "output_type": "display_data"
    }
   ],
   "source": [
    "sns.boxplot(x='Pclass', y='Age',data=df)"
   ]
  },
  {
   "cell_type": "code",
   "execution_count": 14,
   "id": "82f4159d",
   "metadata": {
    "execution": {
     "iopub.execute_input": "2023-03-03T21:20:47.175139Z",
     "iopub.status.busy": "2023-03-03T21:20:47.174508Z",
     "iopub.status.idle": "2023-03-03T21:20:47.593645Z",
     "shell.execute_reply": "2023-03-03T21:20:47.592863Z"
    },
    "id": "GB5fy__Yomxp",
    "outputId": "54cebd64-7148-43d4-d3d5-850daaa831e9",
    "papermill": {
     "duration": 0.437929,
     "end_time": "2023-03-03T21:20:47.595417",
     "exception": false,
     "start_time": "2023-03-03T21:20:47.157488",
     "status": "completed"
    },
    "tags": []
   },
   "outputs": [
    {
     "data": {
      "text/plain": [
       "<AxesSubplot:>"
      ]
     },
     "execution_count": 14,
     "metadata": {},
     "output_type": "execute_result"
    },
    {
     "data": {
      "image/png": "[encoded data removed]",
      "text/plain": [
       "<Figure size 1000x900 with 2 Axes>"
      ]
     },
     "metadata": {},
     "output_type": "display_data"
    }
   ],
   "source": [
    "plt.figure(figsize=[10,9])\n",
    "sns.heatmap(df.corr(),annot=True)"
   ]
  },
  {
   "cell_type": "markdown",
   "id": "f8b15ba7",
   "metadata": {
    "id": "gIQU4Mgrw2jb",
    "papermill": {
     "duration": 0.017719,
     "end_time": "2023-03-03T21:20:47.629740",
     "exception": false,
     "start_time": "2023-03-03T21:20:47.612021",
     "status": "completed"
    },
    "tags": []
   },
   "source": [
    "# **PREPROCESSING**"
   ]
  },
  {
   "cell_type": "markdown",
   "id": "03d2264e",
   "metadata": {
    "id": "PpnHLO1ivBZi",
    "papermill": {
     "duration": 0.016439,
     "end_time": "2023-03-03T21:20:47.665267",
     "exception": false,
     "start_time": "2023-03-03T21:20:47.648828",
     "status": "completed"
    },
    "tags": []
   },
   "source": [
    "**CHECKING FOR NULL VALUES**"
   ]
  },
  {
   "cell_type": "code",
   "execution_count": 15,
   "id": "645cf6f3",
   "metadata": {
    "execution": {
     "iopub.execute_input": "2023-03-03T21:20:47.700827Z",
     "iopub.status.busy": "2023-03-03T21:20:47.700059Z",
     "iopub.status.idle": "2023-03-03T21:20:47.710658Z",
     "shell.execute_reply": "2023-03-03T21:20:47.709436Z"
    },
    "id": "l06EmgGGLMqp",
    "outputId": "f818f332-690d-460c-e3b1-db36b0106e81",
    "papermill": {
     "duration": 0.030596,
     "end_time": "2023-03-03T21:20:47.712915",
     "exception": false,
     "start_time": "2023-03-03T21:20:47.682319",
     "status": "completed"
    },
    "tags": []
   },
   "outputs": [
    {
     "data": {
      "text/plain": [
       "PassengerId    False\n",
       "Survived       False\n",
       "Pclass         False\n",
       "Name           False\n",
       "Sex            False\n",
       "Age             True\n",
       "SibSp          False\n",
       "Parch          False\n",
       "Ticket         False\n",
       "Fare           False\n",
       "Cabin           True\n",
       "Embarked        True\n",
       "dtype: bool"
      ]
     },
     "execution_count": 15,
     "metadata": {},
     "output_type": "execute_result"
    }
   ],
   "source": [
    "df.isnull().any()"
   ]
  },
  {
   "cell_type": "code",
   "execution_count": 16,
   "id": "322c5ae8",
   "metadata": {
    "execution": {
     "iopub.execute_input": "2023-03-03T21:20:47.748971Z",
     "iopub.status.busy": "2023-03-03T21:20:47.747892Z",
     "iopub.status.idle": "2023-03-03T21:20:47.755815Z",
     "shell.execute_reply": "2023-03-03T21:20:47.755175Z"
    },
    "id": "U-CKRYlILRw5",
    "outputId": "f6e6e09f-7765-48fe-fb63-97758f03b277",
    "papermill": {
     "duration": 0.028024,
     "end_time": "2023-03-03T21:20:47.757722",
     "exception": false,
     "start_time": "2023-03-03T21:20:47.729698",
     "status": "completed"
    },
    "tags": []
   },
   "outputs": [
    {
     "data": {
      "text/plain": [
       "PassengerId      0\n",
       "Survived         0\n",
       "Pclass           0\n",
       "Name             0\n",
       "Sex              0\n",
       "Age            177\n",
       "SibSp            0\n",
       "Parch            0\n",
       "Ticket           0\n",
       "Fare             0\n",
       "Cabin          687\n",
       "Embarked         2\n",
       "dtype: int64"
      ]
     },
     "execution_count": 16,
     "metadata": {},
     "output_type": "execute_result"
    }
   ],
   "source": [
    "df.isnull().sum()"
   ]
  },
  {
   "cell_type": "code",
   "execution_count": 17,
   "id": "50638a87",
   "metadata": {
    "execution": {
     "iopub.execute_input": "2023-03-03T21:20:47.795046Z",
     "iopub.status.busy": "2023-03-03T21:20:47.794235Z",
     "iopub.status.idle": "2023-03-03T21:20:47.803362Z",
     "shell.execute_reply": "2023-03-03T21:20:47.802485Z"
    },
    "papermill": {
     "duration": 0.029963,
     "end_time": "2023-03-03T21:20:47.805236",
     "exception": false,
     "start_time": "2023-03-03T21:20:47.775273",
     "status": "completed"
    },
    "tags": []
   },
   "outputs": [
    {
     "data": {
      "text/plain": [
       "PassengerId      0\n",
       "Pclass           0\n",
       "Name             0\n",
       "Sex              0\n",
       "Age             86\n",
       "SibSp            0\n",
       "Parch            0\n",
       "Ticket           0\n",
       "Fare             1\n",
       "Cabin          327\n",
       "Embarked         0\n",
       "dtype: int64"
      ]
     },
     "execution_count": 17,
     "metadata": {},
     "output_type": "execute_result"
    }
   ],
   "source": [
    "df_test.isnull().sum()"
   ]
  },
  {
   "cell_type": "markdown",
   "id": "157aa8ef",
   "metadata": {
    "id": "FxPWfmd6sCEh",
    "papermill": {
     "duration": 0.016793,
     "end_time": "2023-03-03T21:20:47.839489",
     "exception": false,
     "start_time": "2023-03-03T21:20:47.822696",
     "status": "completed"
    },
    "tags": []
   },
   "source": [
    "**DROPPING SOME UNECCESSARY COLUMNS**"
   ]
  },
  {
   "cell_type": "code",
   "execution_count": 18,
   "id": "c230b6ff",
   "metadata": {
    "execution": {
     "iopub.execute_input": "2023-03-03T21:20:47.877423Z",
     "iopub.status.busy": "2023-03-03T21:20:47.876310Z",
     "iopub.status.idle": "2023-03-03T21:20:47.883682Z",
     "shell.execute_reply": "2023-03-03T21:20:47.882179Z"
    },
    "id": "gP2bc-d1rdGr",
    "outputId": "0a710920-01f4-4df8-9f55-7f8f425432f9",
    "papermill": {
     "duration": 0.028104,
     "end_time": "2023-03-03T21:20:47.885773",
     "exception": false,
     "start_time": "2023-03-03T21:20:47.857669",
     "status": "completed"
    },
    "tags": []
   },
   "outputs": [],
   "source": [
    "df.drop(['PassengerId','Name','Cabin','Ticket'], axis=1, inplace=True)\n",
    "df_test.drop(['Name','Cabin','Ticket'], axis=1, inplace=True)"
   ]
  },
  {
   "cell_type": "markdown",
   "id": "d475e996",
   "metadata": {
    "id": "z5g0yxjEvIOC",
    "papermill": {
     "duration": 0.017065,
     "end_time": "2023-03-03T21:20:47.919980",
     "exception": false,
     "start_time": "2023-03-03T21:20:47.902915",
     "status": "completed"
    },
    "tags": []
   },
   "source": [
    "**FILLING MISSING VALUES IN 'Age' COLUMN**"
   ]
  },
  {
   "cell_type": "code",
   "execution_count": 19,
   "id": "88b81a9c",
   "metadata": {
    "execution": {
     "iopub.execute_input": "2023-03-03T21:20:47.955994Z",
     "iopub.status.busy": "2023-03-03T21:20:47.955578Z",
     "iopub.status.idle": "2023-03-03T21:20:47.966421Z",
     "shell.execute_reply": "2023-03-03T21:20:47.965197Z"
    },
    "id": "F8YHtJ1uHZm4",
    "outputId": "d1414d47-6b39-4abf-b67c-371ee31c351d",
    "papermill": {
     "duration": 0.031523,
     "end_time": "2023-03-03T21:20:47.969037",
     "exception": false,
     "start_time": "2023-03-03T21:20:47.937514",
     "status": "completed"
    },
    "tags": []
   },
   "outputs": [
    {
     "name": "stdout",
     "output_type": "stream",
     "text": [
      "38.233440860215055\n",
      "29.87763005780347\n",
      "25.14061971830986\n"
     ]
    }
   ],
   "source": [
    "print(df[df['Pclass'] == 1]['Age'].mean()) \n",
    "print(df[df['Pclass'] == 2]['Age'].mean()) \n",
    "print(df[df['Pclass'] == 3]['Age'].mean())"
   ]
  },
  {
   "cell_type": "code",
   "execution_count": 20,
   "id": "38da1818",
   "metadata": {
    "execution": {
     "iopub.execute_input": "2023-03-03T21:20:48.005704Z",
     "iopub.status.busy": "2023-03-03T21:20:48.005043Z",
     "iopub.status.idle": "2023-03-03T21:20:48.012631Z",
     "shell.execute_reply": "2023-03-03T21:20:48.011973Z"
    },
    "papermill": {
     "duration": 0.027822,
     "end_time": "2023-03-03T21:20:48.014752",
     "exception": false,
     "start_time": "2023-03-03T21:20:47.986930",
     "status": "completed"
    },
    "tags": []
   },
   "outputs": [
    {
     "name": "stdout",
     "output_type": "stream",
     "text": [
      "40.91836734693877\n",
      "28.7775\n",
      "24.02794520547945\n"
     ]
    }
   ],
   "source": [
    "print(df_test[df_test['Pclass'] == 1]['Age'].mean()) \n",
    "print(df_test[df_test['Pclass'] == 2]['Age'].mean()) \n",
    "print(df_test[df_test['Pclass'] == 3]['Age'].mean())"
   ]
  },
  {
   "cell_type": "code",
   "execution_count": 21,
   "id": "aa581cf5",
   "metadata": {
    "execution": {
     "iopub.execute_input": "2023-03-03T21:20:48.051992Z",
     "iopub.status.busy": "2023-03-03T21:20:48.050699Z",
     "iopub.status.idle": "2023-03-03T21:20:48.201050Z",
     "shell.execute_reply": "2023-03-03T21:20:48.199984Z"
    },
    "id": "rqa2Pxx3JIm-",
    "papermill": {
     "duration": 0.171458,
     "end_time": "2023-03-03T21:20:48.203610",
     "exception": false,
     "start_time": "2023-03-03T21:20:48.032152",
     "status": "completed"
    },
    "tags": []
   },
   "outputs": [],
   "source": [
    "def fill_in_na_values(cols):\n",
    "  age = cols[0]\n",
    "  pclass = cols[1]\n",
    "  if pd.isnull(age):\n",
    "    if pclass == 1:\n",
    "      return round (df[df['Pclass'] == 1]['Age'].mean()) \n",
    "    elif pclass == 2:\n",
    "      return round (df[df['Pclass'] == 2]['Age'].mean()) \n",
    "    elif pclass == 3:\n",
    "      return round(df[df['Pclass'] == 3]['Age'].mean())\n",
    "  else:\n",
    "    return age\n",
    "\n",
    "df['Age'] = df[['Age','Pclass']].apply(fill_in_na_values, axis = 1)\n",
    "df_test['Age'] = df_test[['Age','Pclass']].apply(fill_in_na_values, axis = 1)"
   ]
  },
  {
   "cell_type": "code",
   "execution_count": 22,
   "id": "db98103b",
   "metadata": {
    "execution": {
     "iopub.execute_input": "2023-03-03T21:20:48.240226Z",
     "iopub.status.busy": "2023-03-03T21:20:48.239822Z",
     "iopub.status.idle": "2023-03-03T21:20:48.248497Z",
     "shell.execute_reply": "2023-03-03T21:20:48.247854Z"
    },
    "papermill": {
     "duration": 0.029064,
     "end_time": "2023-03-03T21:20:48.250284",
     "exception": false,
     "start_time": "2023-03-03T21:20:48.221220",
     "status": "completed"
    },
    "tags": []
   },
   "outputs": [
    {
     "data": {
      "text/plain": [
       "PassengerId    0\n",
       "Pclass         0\n",
       "Sex            0\n",
       "Age            0\n",
       "SibSp          0\n",
       "Parch          0\n",
       "Fare           1\n",
       "Embarked       0\n",
       "dtype: int64"
      ]
     },
     "execution_count": 22,
     "metadata": {},
     "output_type": "execute_result"
    }
   ],
   "source": [
    "df_test.isnull().sum()"
   ]
  },
  {
   "cell_type": "code",
   "execution_count": 23,
   "id": "414542b9",
   "metadata": {
    "execution": {
     "iopub.execute_input": "2023-03-03T21:20:48.287791Z",
     "iopub.status.busy": "2023-03-03T21:20:48.286915Z",
     "iopub.status.idle": "2023-03-03T21:20:48.311889Z",
     "shell.execute_reply": "2023-03-03T21:20:48.310809Z"
    },
    "papermill": {
     "duration": 0.046198,
     "end_time": "2023-03-03T21:20:48.314065",
     "exception": false,
     "start_time": "2023-03-03T21:20:48.267867",
     "status": "completed"
    },
    "tags": []
   },
   "outputs": [
    {
     "name": "stderr",
     "output_type": "stream",
     "text": [
      "/opt/conda/lib/python3.7/site-packages/ipykernel_launcher.py:1: FutureWarning: Dropping of nuisance columns in DataFrame reductions (with 'numeric_only=None') is deprecated; in a future version this will raise TypeError.  Select only valid columns before calling the reduction.\n",
      "  \"\"\"Entry point for launching an IPython kernel.\n",
      "/opt/conda/lib/python3.7/site-packages/ipykernel_launcher.py:2: FutureWarning: Dropping of nuisance columns in DataFrame reductions (with 'numeric_only=None') is deprecated; in a future version this will raise TypeError.  Select only valid columns before calling the reduction.\n",
      "  \n"
     ]
    },
    {
     "data": {
      "text/html": [
       "<div>\n",
       "<style scoped>\n",
       "    .dataframe tbody tr th:only-of-type {\n",
       "        vertical-align: middle;\n",
       "    }\n",
       "\n",
       "    .dataframe tbody tr th {\n",
       "        vertical-align: top;\n",
       "    }\n",
       "\n",
       "    .dataframe thead th {\n",
       "        text-align: right;\n",
       "    }\n",
       "</style>\n",
       "<table border=\"1\" class=\"dataframe\">\n",
       "  <thead>\n",
       "    <tr style=\"text-align: right;\">\n",
       "      <th></th>\n",
       "      <th>PassengerId</th>\n",
       "      <th>Pclass</th>\n",
       "      <th>Sex</th>\n",
       "      <th>Age</th>\n",
       "      <th>SibSp</th>\n",
       "      <th>Parch</th>\n",
       "      <th>Fare</th>\n",
       "      <th>Embarked</th>\n",
       "    </tr>\n",
       "  </thead>\n",
       "  <tbody>\n",
       "    <tr>\n",
       "      <th>0</th>\n",
       "      <td>892</td>\n",
       "      <td>3</td>\n",
       "      <td>male</td>\n",
       "      <td>34.5</td>\n",
       "      <td>0</td>\n",
       "      <td>0</td>\n",
       "      <td>7.8292</td>\n",
       "      <td>Q</td>\n",
       "    </tr>\n",
       "    <tr>\n",
       "      <th>1</th>\n",
       "      <td>893</td>\n",
       "      <td>3</td>\n",
       "      <td>female</td>\n",
       "      <td>47.0</td>\n",
       "      <td>1</td>\n",
       "      <td>0</td>\n",
       "      <td>7.0000</td>\n",
       "      <td>S</td>\n",
       "    </tr>\n",
       "    <tr>\n",
       "      <th>2</th>\n",
       "      <td>894</td>\n",
       "      <td>2</td>\n",
       "      <td>male</td>\n",
       "      <td>62.0</td>\n",
       "      <td>0</td>\n",
       "      <td>0</td>\n",
       "      <td>9.6875</td>\n",
       "      <td>Q</td>\n",
       "    </tr>\n",
       "    <tr>\n",
       "      <th>3</th>\n",
       "      <td>895</td>\n",
       "      <td>3</td>\n",
       "      <td>male</td>\n",
       "      <td>27.0</td>\n",
       "      <td>0</td>\n",
       "      <td>0</td>\n",
       "      <td>8.6625</td>\n",
       "      <td>S</td>\n",
       "    </tr>\n",
       "    <tr>\n",
       "      <th>4</th>\n",
       "      <td>896</td>\n",
       "      <td>3</td>\n",
       "      <td>female</td>\n",
       "      <td>22.0</td>\n",
       "      <td>1</td>\n",
       "      <td>1</td>\n",
       "      <td>12.2875</td>\n",
       "      <td>S</td>\n",
       "    </tr>\n",
       "    <tr>\n",
       "      <th>...</th>\n",
       "      <td>...</td>\n",
       "      <td>...</td>\n",
       "      <td>...</td>\n",
       "      <td>...</td>\n",
       "      <td>...</td>\n",
       "      <td>...</td>\n",
       "      <td>...</td>\n",
       "      <td>...</td>\n",
       "    </tr>\n",
       "    <tr>\n",
       "      <th>413</th>\n",
       "      <td>1305</td>\n",
       "      <td>3</td>\n",
       "      <td>male</td>\n",
       "      <td>25.0</td>\n",
       "      <td>0</td>\n",
       "      <td>0</td>\n",
       "      <td>8.0500</td>\n",
       "      <td>S</td>\n",
       "    </tr>\n",
       "    <tr>\n",
       "      <th>414</th>\n",
       "      <td>1306</td>\n",
       "      <td>1</td>\n",
       "      <td>female</td>\n",
       "      <td>39.0</td>\n",
       "      <td>0</td>\n",
       "      <td>0</td>\n",
       "      <td>108.9000</td>\n",
       "      <td>C</td>\n",
       "    </tr>\n",
       "    <tr>\n",
       "      <th>415</th>\n",
       "      <td>1307</td>\n",
       "      <td>3</td>\n",
       "      <td>male</td>\n",
       "      <td>38.5</td>\n",
       "      <td>0</td>\n",
       "      <td>0</td>\n",
       "      <td>7.2500</td>\n",
       "      <td>S</td>\n",
       "    </tr>\n",
       "    <tr>\n",
       "      <th>416</th>\n",
       "      <td>1308</td>\n",
       "      <td>3</td>\n",
       "      <td>male</td>\n",
       "      <td>25.0</td>\n",
       "      <td>0</td>\n",
       "      <td>0</td>\n",
       "      <td>8.0500</td>\n",
       "      <td>S</td>\n",
       "    </tr>\n",
       "    <tr>\n",
       "      <th>417</th>\n",
       "      <td>1309</td>\n",
       "      <td>3</td>\n",
       "      <td>male</td>\n",
       "      <td>25.0</td>\n",
       "      <td>1</td>\n",
       "      <td>1</td>\n",
       "      <td>22.3583</td>\n",
       "      <td>C</td>\n",
       "    </tr>\n",
       "  </tbody>\n",
       "</table>\n",
       "<p>418 rows × 8 columns</p>\n",
       "</div>"
      ],
      "text/plain": [
       "     PassengerId  Pclass     Sex   Age  SibSp  Parch      Fare Embarked\n",
       "0            892       3    male  34.5      0      0    7.8292        Q\n",
       "1            893       3  female  47.0      1      0    7.0000        S\n",
       "2            894       2    male  62.0      0      0    9.6875        Q\n",
       "3            895       3    male  27.0      0      0    8.6625        S\n",
       "4            896       3  female  22.0      1      1   12.2875        S\n",
       "..           ...     ...     ...   ...    ...    ...       ...      ...\n",
       "413         1305       3    male  25.0      0      0    8.0500        S\n",
       "414         1306       1  female  39.0      0      0  108.9000        C\n",
       "415         1307       3    male  38.5      0      0    7.2500        S\n",
       "416         1308       3    male  25.0      0      0    8.0500        S\n",
       "417         1309       3    male  25.0      1      1   22.3583        C\n",
       "\n",
       "[418 rows x 8 columns]"
      ]
     },
     "execution_count": 23,
     "metadata": {},
     "output_type": "execute_result"
    }
   ],
   "source": [
    "df.fillna(df.mean())\n",
    "df_test.fillna(df.mean())"
   ]
  },
  {
   "cell_type": "code",
   "execution_count": 24,
   "id": "80fd4201",
   "metadata": {
    "execution": {
     "iopub.execute_input": "2023-03-03T21:20:48.353383Z",
     "iopub.status.busy": "2023-03-03T21:20:48.352959Z",
     "iopub.status.idle": "2023-03-03T21:20:48.358477Z",
     "shell.execute_reply": "2023-03-03T21:20:48.357779Z"
    },
    "papermill": {
     "duration": 0.028167,
     "end_time": "2023-03-03T21:20:48.360272",
     "exception": false,
     "start_time": "2023-03-03T21:20:48.332105",
     "status": "completed"
    },
    "tags": []
   },
   "outputs": [],
   "source": [
    "df_test['Fare']=df_test['Fare'].fillna(df_test['Fare'].median())"
   ]
  },
  {
   "cell_type": "code",
   "execution_count": 25,
   "id": "b2be97da",
   "metadata": {
    "execution": {
     "iopub.execute_input": "2023-03-03T21:20:48.398415Z",
     "iopub.status.busy": "2023-03-03T21:20:48.397741Z",
     "iopub.status.idle": "2023-03-03T21:20:48.405759Z",
     "shell.execute_reply": "2023-03-03T21:20:48.404854Z"
    },
    "papermill": {
     "duration": 0.029347,
     "end_time": "2023-03-03T21:20:48.407909",
     "exception": false,
     "start_time": "2023-03-03T21:20:48.378562",
     "status": "completed"
    },
    "tags": []
   },
   "outputs": [
    {
     "data": {
      "text/plain": [
       "PassengerId    0\n",
       "Pclass         0\n",
       "Sex            0\n",
       "Age            0\n",
       "SibSp          0\n",
       "Parch          0\n",
       "Fare           0\n",
       "Embarked       0\n",
       "dtype: int64"
      ]
     },
     "execution_count": 25,
     "metadata": {},
     "output_type": "execute_result"
    }
   ],
   "source": [
    "df_test.isnull().sum()"
   ]
  },
  {
   "cell_type": "code",
   "execution_count": 26,
   "id": "340308b6",
   "metadata": {
    "execution": {
     "iopub.execute_input": "2023-03-03T21:20:48.445638Z",
     "iopub.status.busy": "2023-03-03T21:20:48.445288Z",
     "iopub.status.idle": "2023-03-03T21:20:48.452940Z",
     "shell.execute_reply": "2023-03-03T21:20:48.452180Z"
    },
    "papermill": {
     "duration": 0.028928,
     "end_time": "2023-03-03T21:20:48.454670",
     "exception": false,
     "start_time": "2023-03-03T21:20:48.425742",
     "status": "completed"
    },
    "tags": []
   },
   "outputs": [
    {
     "data": {
      "text/plain": [
       "Survived    0\n",
       "Pclass      0\n",
       "Sex         0\n",
       "Age         0\n",
       "SibSp       0\n",
       "Parch       0\n",
       "Fare        0\n",
       "Embarked    2\n",
       "dtype: int64"
      ]
     },
     "execution_count": 26,
     "metadata": {},
     "output_type": "execute_result"
    }
   ],
   "source": [
    "df.isnull().sum()"
   ]
  },
  {
   "cell_type": "markdown",
   "id": "ea0018e4",
   "metadata": {
    "id": "M2oXXWMWxSh_",
    "papermill": {
     "duration": 0.017192,
     "end_time": "2023-03-03T21:20:48.489764",
     "exception": false,
     "start_time": "2023-03-03T21:20:48.472572",
     "status": "completed"
    },
    "tags": []
   },
   "source": [
    "# **CHECK FOR CATEGORICAL COLUMNS AND PERFORM ENCODING**"
   ]
  },
  {
   "cell_type": "markdown",
   "id": "ff2bb26d",
   "metadata": {
    "id": "bRUi56Qey2Qj",
    "papermill": {
     "duration": 0.018035,
     "end_time": "2023-03-03T21:20:48.527326",
     "exception": false,
     "start_time": "2023-03-03T21:20:48.509291",
     "status": "completed"
    },
    "tags": []
   },
   "source": [
    "**Label Encoding**"
   ]
  },
  {
   "cell_type": "code",
   "execution_count": 27,
   "id": "128913af",
   "metadata": {
    "execution": {
     "iopub.execute_input": "2023-03-03T21:20:48.565827Z",
     "iopub.status.busy": "2023-03-03T21:20:48.565364Z",
     "iopub.status.idle": "2023-03-03T21:20:48.573434Z",
     "shell.execute_reply": "2023-03-03T21:20:48.572076Z"
    },
    "id": "MnGOQ7-gxQ4J",
    "outputId": "b7ae269d-3334-43cd-8eeb-ed8d29be158a",
    "papermill": {
     "duration": 0.030736,
     "end_time": "2023-03-03T21:20:48.576253",
     "exception": false,
     "start_time": "2023-03-03T21:20:48.545517",
     "status": "completed"
    },
    "tags": []
   },
   "outputs": [
    {
     "data": {
      "text/plain": [
       "['Sex', 'Embarked']"
      ]
     },
     "execution_count": 27,
     "metadata": {},
     "output_type": "execute_result"
    }
   ],
   "source": [
    "#Checking for Categorical Columns\n",
    "df.select_dtypes(include=['object']).columns.tolist()"
   ]
  },
  {
   "cell_type": "code",
   "execution_count": 28,
   "id": "408afe3f",
   "metadata": {
    "execution": {
     "iopub.execute_input": "2023-03-03T21:20:48.617240Z",
     "iopub.status.busy": "2023-03-03T21:20:48.616579Z",
     "iopub.status.idle": "2023-03-03T21:20:48.623302Z",
     "shell.execute_reply": "2023-03-03T21:20:48.622547Z"
    },
    "papermill": {
     "duration": 0.030329,
     "end_time": "2023-03-03T21:20:48.625179",
     "exception": false,
     "start_time": "2023-03-03T21:20:48.594850",
     "status": "completed"
    },
    "tags": []
   },
   "outputs": [
    {
     "data": {
      "text/plain": [
       "['Sex', 'Embarked']"
      ]
     },
     "execution_count": 28,
     "metadata": {},
     "output_type": "execute_result"
    }
   ],
   "source": [
    "#Checking for Categorical Columns\n",
    "df_test.select_dtypes(include=['object']).columns.tolist()"
   ]
  },
  {
   "cell_type": "code",
   "execution_count": 29,
   "id": "5071742d",
   "metadata": {
    "execution": {
     "iopub.execute_input": "2023-03-03T21:20:48.663756Z",
     "iopub.status.busy": "2023-03-03T21:20:48.663066Z",
     "iopub.status.idle": "2023-03-03T21:20:48.669825Z",
     "shell.execute_reply": "2023-03-03T21:20:48.668863Z"
    },
    "id": "pwO7ceZ5ydcb",
    "outputId": "ab2742f1-44be-4338-c986-f4e2bd0f3f35",
    "papermill": {
     "duration": 0.028153,
     "end_time": "2023-03-03T21:20:48.671732",
     "exception": false,
     "start_time": "2023-03-03T21:20:48.643579",
     "status": "completed"
    },
    "tags": []
   },
   "outputs": [
    {
     "data": {
      "text/plain": [
       "array(['S', 'C', 'Q', nan], dtype=object)"
      ]
     },
     "execution_count": 29,
     "metadata": {},
     "output_type": "execute_result"
    }
   ],
   "source": [
    "df['Embarked'].unique()"
   ]
  },
  {
   "cell_type": "code",
   "execution_count": 30,
   "id": "38fe68de",
   "metadata": {
    "execution": {
     "iopub.execute_input": "2023-03-03T21:20:48.710575Z",
     "iopub.status.busy": "2023-03-03T21:20:48.710186Z",
     "iopub.status.idle": "2023-03-03T21:20:48.717655Z",
     "shell.execute_reply": "2023-03-03T21:20:48.716270Z"
    },
    "papermill": {
     "duration": 0.029208,
     "end_time": "2023-03-03T21:20:48.719486",
     "exception": false,
     "start_time": "2023-03-03T21:20:48.690278",
     "status": "completed"
    },
    "tags": []
   },
   "outputs": [
    {
     "data": {
      "text/plain": [
       "array(['Q', 'S', 'C'], dtype=object)"
      ]
     },
     "execution_count": 30,
     "metadata": {},
     "output_type": "execute_result"
    }
   ],
   "source": [
    "df_test['Embarked'].unique()"
   ]
  },
  {
   "cell_type": "code",
   "execution_count": 31,
   "id": "39c68ecf",
   "metadata": {
    "execution": {
     "iopub.execute_input": "2023-03-03T21:20:48.759966Z",
     "iopub.status.busy": "2023-03-03T21:20:48.759124Z",
     "iopub.status.idle": "2023-03-03T21:20:48.766785Z",
     "shell.execute_reply": "2023-03-03T21:20:48.764946Z"
    },
    "id": "S6k7PUWUyrnO",
    "outputId": "8eed110f-900c-4e17-bbc7-2c2d7e855794",
    "papermill": {
     "duration": 0.030861,
     "end_time": "2023-03-03T21:20:48.769015",
     "exception": false,
     "start_time": "2023-03-03T21:20:48.738154",
     "status": "completed"
    },
    "tags": []
   },
   "outputs": [
    {
     "data": {
      "text/plain": [
       "array(['male', 'female'], dtype=object)"
      ]
     },
     "execution_count": 31,
     "metadata": {},
     "output_type": "execute_result"
    }
   ],
   "source": [
    "df['Sex'].unique()"
   ]
  },
  {
   "cell_type": "code",
   "execution_count": 32,
   "id": "ff0106c7",
   "metadata": {
    "execution": {
     "iopub.execute_input": "2023-03-03T21:20:48.807892Z",
     "iopub.status.busy": "2023-03-03T21:20:48.807475Z",
     "iopub.status.idle": "2023-03-03T21:20:48.814438Z",
     "shell.execute_reply": "2023-03-03T21:20:48.813449Z"
    },
    "papermill": {
     "duration": 0.028803,
     "end_time": "2023-03-03T21:20:48.816376",
     "exception": false,
     "start_time": "2023-03-03T21:20:48.787573",
     "status": "completed"
    },
    "tags": []
   },
   "outputs": [
    {
     "data": {
      "text/plain": [
       "array(['male', 'female'], dtype=object)"
      ]
     },
     "execution_count": 32,
     "metadata": {},
     "output_type": "execute_result"
    }
   ],
   "source": [
    "df_test['Sex'].unique()"
   ]
  },
  {
   "cell_type": "code",
   "execution_count": 33,
   "id": "200e53cc",
   "metadata": {
    "execution": {
     "iopub.execute_input": "2023-03-03T21:20:48.855525Z",
     "iopub.status.busy": "2023-03-03T21:20:48.855176Z",
     "iopub.status.idle": "2023-03-03T21:20:49.001860Z",
     "shell.execute_reply": "2023-03-03T21:20:49.000611Z"
    },
    "papermill": {
     "duration": 0.16913,
     "end_time": "2023-03-03T21:20:49.004352",
     "exception": false,
     "start_time": "2023-03-03T21:20:48.835222",
     "status": "completed"
    },
    "tags": []
   },
   "outputs": [
    {
     "name": "stdout",
     "output_type": "stream",
     "text": [
      "0      1\n",
      "1      0\n",
      "2      0\n",
      "3      0\n",
      "4      1\n",
      "      ..\n",
      "886    1\n",
      "887    0\n",
      "888    0\n",
      "889    1\n",
      "890    1\n",
      "Name: Sex, Length: 891, dtype: int64\n"
     ]
    }
   ],
   "source": [
    "from sklearn.preprocessing import LabelEncoder\n",
    "le = LabelEncoder()\n",
    "df[\"Sex\"]= le.fit_transform(df[\"Sex\"])\n",
    "print(df[\"Sex\"])"
   ]
  },
  {
   "cell_type": "code",
   "execution_count": 34,
   "id": "ac1b9be5",
   "metadata": {
    "execution": {
     "iopub.execute_input": "2023-03-03T21:20:49.044541Z",
     "iopub.status.busy": "2023-03-03T21:20:49.043886Z",
     "iopub.status.idle": "2023-03-03T21:20:49.052747Z",
     "shell.execute_reply": "2023-03-03T21:20:49.050991Z"
    },
    "papermill": {
     "duration": 0.032246,
     "end_time": "2023-03-03T21:20:49.055853",
     "exception": false,
     "start_time": "2023-03-03T21:20:49.023607",
     "status": "completed"
    },
    "tags": []
   },
   "outputs": [
    {
     "name": "stdout",
     "output_type": "stream",
     "text": [
      "0      1\n",
      "1      0\n",
      "2      1\n",
      "3      1\n",
      "4      0\n",
      "      ..\n",
      "413    1\n",
      "414    0\n",
      "415    1\n",
      "416    1\n",
      "417    1\n",
      "Name: Sex, Length: 418, dtype: int64\n"
     ]
    }
   ],
   "source": [
    "from sklearn.preprocessing import LabelEncoder\n",
    "le = LabelEncoder()\n",
    "df_test[\"Sex\"]= le.fit_transform(df_test[\"Sex\"])\n",
    "print(df_test[\"Sex\"])"
   ]
  },
  {
   "cell_type": "code",
   "execution_count": 35,
   "id": "0b748826",
   "metadata": {
    "execution": {
     "iopub.execute_input": "2023-03-03T21:20:49.096555Z",
     "iopub.status.busy": "2023-03-03T21:20:49.095391Z",
     "iopub.status.idle": "2023-03-03T21:20:49.102509Z",
     "shell.execute_reply": "2023-03-03T21:20:49.101623Z"
    },
    "papermill": {
     "duration": 0.029391,
     "end_time": "2023-03-03T21:20:49.104561",
     "exception": false,
     "start_time": "2023-03-03T21:20:49.075170",
     "status": "completed"
    },
    "tags": []
   },
   "outputs": [
    {
     "name": "stdout",
     "output_type": "stream",
     "text": [
      "0      2\n",
      "1      0\n",
      "2      2\n",
      "3      2\n",
      "4      2\n",
      "      ..\n",
      "886    2\n",
      "887    2\n",
      "888    2\n",
      "889    0\n",
      "890    1\n",
      "Name: Embarked, Length: 891, dtype: int64\n"
     ]
    }
   ],
   "source": [
    "from sklearn.preprocessing import LabelEncoder\n",
    "le = LabelEncoder()\n",
    "df[\"Embarked\"]= le.fit_transform(df[\"Embarked\"])\n",
    "print(df[\"Embarked\"])"
   ]
  },
  {
   "cell_type": "code",
   "execution_count": 36,
   "id": "5c98ad39",
   "metadata": {
    "execution": {
     "iopub.execute_input": "2023-03-03T21:20:49.143983Z",
     "iopub.status.busy": "2023-03-03T21:20:49.143546Z",
     "iopub.status.idle": "2023-03-03T21:20:49.151735Z",
     "shell.execute_reply": "2023-03-03T21:20:49.150420Z"
    },
    "papermill": {
     "duration": 0.03018,
     "end_time": "2023-03-03T21:20:49.154216",
     "exception": false,
     "start_time": "2023-03-03T21:20:49.124036",
     "status": "completed"
    },
    "tags": []
   },
   "outputs": [
    {
     "name": "stdout",
     "output_type": "stream",
     "text": [
      "0      1\n",
      "1      2\n",
      "2      1\n",
      "3      2\n",
      "4      2\n",
      "      ..\n",
      "413    2\n",
      "414    0\n",
      "415    2\n",
      "416    2\n",
      "417    0\n",
      "Name: Embarked, Length: 418, dtype: int64\n"
     ]
    }
   ],
   "source": [
    "from sklearn.preprocessing import LabelEncoder\n",
    "le = LabelEncoder()\n",
    "df_test[\"Embarked\"]= le.fit_transform(df_test[\"Embarked\"])\n",
    "print(df_test[\"Embarked\"])"
   ]
  },
  {
   "cell_type": "code",
   "execution_count": 37,
   "id": "0338dcb2",
   "metadata": {
    "execution": {
     "iopub.execute_input": "2023-03-03T21:20:49.193980Z",
     "iopub.status.busy": "2023-03-03T21:20:49.193569Z",
     "iopub.status.idle": "2023-03-03T21:20:49.212189Z",
     "shell.execute_reply": "2023-03-03T21:20:49.210331Z"
    },
    "papermill": {
     "duration": 0.041141,
     "end_time": "2023-03-03T21:20:49.214687",
     "exception": false,
     "start_time": "2023-03-03T21:20:49.173546",
     "status": "completed"
    },
    "tags": []
   },
   "outputs": [
    {
     "data": {
      "text/html": [
       "<div>\n",
       "<style scoped>\n",
       "    .dataframe tbody tr th:only-of-type {\n",
       "        vertical-align: middle;\n",
       "    }\n",
       "\n",
       "    .dataframe tbody tr th {\n",
       "        vertical-align: top;\n",
       "    }\n",
       "\n",
       "    .dataframe thead th {\n",
       "        text-align: right;\n",
       "    }\n",
       "</style>\n",
       "<table border=\"1\" class=\"dataframe\">\n",
       "  <thead>\n",
       "    <tr style=\"text-align: right;\">\n",
       "      <th></th>\n",
       "      <th>PassengerId</th>\n",
       "      <th>Pclass</th>\n",
       "      <th>Sex</th>\n",
       "      <th>Age</th>\n",
       "      <th>SibSp</th>\n",
       "      <th>Parch</th>\n",
       "      <th>Fare</th>\n",
       "      <th>Embarked</th>\n",
       "    </tr>\n",
       "  </thead>\n",
       "  <tbody>\n",
       "    <tr>\n",
       "      <th>0</th>\n",
       "      <td>892</td>\n",
       "      <td>3</td>\n",
       "      <td>1</td>\n",
       "      <td>34.5</td>\n",
       "      <td>0</td>\n",
       "      <td>0</td>\n",
       "      <td>7.8292</td>\n",
       "      <td>1</td>\n",
       "    </tr>\n",
       "    <tr>\n",
       "      <th>1</th>\n",
       "      <td>893</td>\n",
       "      <td>3</td>\n",
       "      <td>0</td>\n",
       "      <td>47.0</td>\n",
       "      <td>1</td>\n",
       "      <td>0</td>\n",
       "      <td>7.0000</td>\n",
       "      <td>2</td>\n",
       "    </tr>\n",
       "    <tr>\n",
       "      <th>2</th>\n",
       "      <td>894</td>\n",
       "      <td>2</td>\n",
       "      <td>1</td>\n",
       "      <td>62.0</td>\n",
       "      <td>0</td>\n",
       "      <td>0</td>\n",
       "      <td>9.6875</td>\n",
       "      <td>1</td>\n",
       "    </tr>\n",
       "    <tr>\n",
       "      <th>3</th>\n",
       "      <td>895</td>\n",
       "      <td>3</td>\n",
       "      <td>1</td>\n",
       "      <td>27.0</td>\n",
       "      <td>0</td>\n",
       "      <td>0</td>\n",
       "      <td>8.6625</td>\n",
       "      <td>2</td>\n",
       "    </tr>\n",
       "    <tr>\n",
       "      <th>4</th>\n",
       "      <td>896</td>\n",
       "      <td>3</td>\n",
       "      <td>0</td>\n",
       "      <td>22.0</td>\n",
       "      <td>1</td>\n",
       "      <td>1</td>\n",
       "      <td>12.2875</td>\n",
       "      <td>2</td>\n",
       "    </tr>\n",
       "    <tr>\n",
       "      <th>...</th>\n",
       "      <td>...</td>\n",
       "      <td>...</td>\n",
       "      <td>...</td>\n",
       "      <td>...</td>\n",
       "      <td>...</td>\n",
       "      <td>...</td>\n",
       "      <td>...</td>\n",
       "      <td>...</td>\n",
       "    </tr>\n",
       "    <tr>\n",
       "      <th>413</th>\n",
       "      <td>1305</td>\n",
       "      <td>3</td>\n",
       "      <td>1</td>\n",
       "      <td>25.0</td>\n",
       "      <td>0</td>\n",
       "      <td>0</td>\n",
       "      <td>8.0500</td>\n",
       "      <td>2</td>\n",
       "    </tr>\n",
       "    <tr>\n",
       "      <th>414</th>\n",
       "      <td>1306</td>\n",
       "      <td>1</td>\n",
       "      <td>0</td>\n",
       "      <td>39.0</td>\n",
       "      <td>0</td>\n",
       "      <td>0</td>\n",
       "      <td>108.9000</td>\n",
       "      <td>0</td>\n",
       "    </tr>\n",
       "    <tr>\n",
       "      <th>415</th>\n",
       "      <td>1307</td>\n",
       "      <td>3</td>\n",
       "      <td>1</td>\n",
       "      <td>38.5</td>\n",
       "      <td>0</td>\n",
       "      <td>0</td>\n",
       "      <td>7.2500</td>\n",
       "      <td>2</td>\n",
       "    </tr>\n",
       "    <tr>\n",
       "      <th>416</th>\n",
       "      <td>1308</td>\n",
       "      <td>3</td>\n",
       "      <td>1</td>\n",
       "      <td>25.0</td>\n",
       "      <td>0</td>\n",
       "      <td>0</td>\n",
       "      <td>8.0500</td>\n",
       "      <td>2</td>\n",
       "    </tr>\n",
       "    <tr>\n",
       "      <th>417</th>\n",
       "      <td>1309</td>\n",
       "      <td>3</td>\n",
       "      <td>1</td>\n",
       "      <td>25.0</td>\n",
       "      <td>1</td>\n",
       "      <td>1</td>\n",
       "      <td>22.3583</td>\n",
       "      <td>0</td>\n",
       "    </tr>\n",
       "  </tbody>\n",
       "</table>\n",
       "<p>418 rows × 8 columns</p>\n",
       "</div>"
      ],
      "text/plain": [
       "     PassengerId  Pclass  Sex   Age  SibSp  Parch      Fare  Embarked\n",
       "0            892       3    1  34.5      0      0    7.8292         1\n",
       "1            893       3    0  47.0      1      0    7.0000         2\n",
       "2            894       2    1  62.0      0      0    9.6875         1\n",
       "3            895       3    1  27.0      0      0    8.6625         2\n",
       "4            896       3    0  22.0      1      1   12.2875         2\n",
       "..           ...     ...  ...   ...    ...    ...       ...       ...\n",
       "413         1305       3    1  25.0      0      0    8.0500         2\n",
       "414         1306       1    0  39.0      0      0  108.9000         0\n",
       "415         1307       3    1  38.5      0      0    7.2500         2\n",
       "416         1308       3    1  25.0      0      0    8.0500         2\n",
       "417         1309       3    1  25.0      1      1   22.3583         0\n",
       "\n",
       "[418 rows x 8 columns]"
      ]
     },
     "execution_count": 37,
     "metadata": {},
     "output_type": "execute_result"
    }
   ],
   "source": [
    "df_test"
   ]
  },
  {
   "cell_type": "markdown",
   "id": "3d38fcbb",
   "metadata": {
    "id": "PlTBy15i30K8",
    "papermill": {
     "duration": 0.01863,
     "end_time": "2023-03-03T21:20:49.254586",
     "exception": false,
     "start_time": "2023-03-03T21:20:49.235956",
     "status": "completed"
    },
    "tags": []
   },
   "source": [
    "# **SPLITTING INTO INDEPENDENT AND DEPENDENT VARIABLES**"
   ]
  },
  {
   "cell_type": "code",
   "execution_count": 38,
   "id": "89903dd0",
   "metadata": {
    "execution": {
     "iopub.execute_input": "2023-03-03T21:20:49.293596Z",
     "iopub.status.busy": "2023-03-03T21:20:49.293269Z",
     "iopub.status.idle": "2023-03-03T21:20:49.300624Z",
     "shell.execute_reply": "2023-03-03T21:20:49.299824Z"
    },
    "id": "7l7vZIRH4hBj",
    "papermill": {
     "duration": 0.029382,
     "end_time": "2023-03-03T21:20:49.302612",
     "exception": false,
     "start_time": "2023-03-03T21:20:49.273230",
     "status": "completed"
    },
    "tags": []
   },
   "outputs": [],
   "source": [
    "X_train = df.drop(\"Survived\", axis=1)\n",
    "y_train = df[\"Survived\"]\n",
    "X_test  = df_test.drop(\"PassengerId\", axis=1).copy()"
   ]
  },
  {
   "cell_type": "code",
   "execution_count": 39,
   "id": "38428efa",
   "metadata": {
    "execution": {
     "iopub.execute_input": "2023-03-03T21:20:49.342136Z",
     "iopub.status.busy": "2023-03-03T21:20:49.341670Z",
     "iopub.status.idle": "2023-03-03T21:20:49.353451Z",
     "shell.execute_reply": "2023-03-03T21:20:49.351854Z"
    },
    "papermill": {
     "duration": 0.034853,
     "end_time": "2023-03-03T21:20:49.356211",
     "exception": false,
     "start_time": "2023-03-03T21:20:49.321358",
     "status": "completed"
    },
    "tags": []
   },
   "outputs": [
    {
     "name": "stdout",
     "output_type": "stream",
     "text": [
      "     Pclass  Sex   Age  SibSp  Parch      Fare  Embarked\n",
      "0         3    1  34.5      0      0    7.8292         1\n",
      "1         3    0  47.0      1      0    7.0000         2\n",
      "2         2    1  62.0      0      0    9.6875         1\n",
      "3         3    1  27.0      0      0    8.6625         2\n",
      "4         3    0  22.0      1      1   12.2875         2\n",
      "..      ...  ...   ...    ...    ...       ...       ...\n",
      "413       3    1  25.0      0      0    8.0500         2\n",
      "414       1    0  39.0      0      0  108.9000         0\n",
      "415       3    1  38.5      0      0    7.2500         2\n",
      "416       3    1  25.0      0      0    8.0500         2\n",
      "417       3    1  25.0      1      1   22.3583         0\n",
      "\n",
      "[418 rows x 7 columns]\n"
     ]
    }
   ],
   "source": [
    "print(X_test)"
   ]
  },
  {
   "cell_type": "code",
   "execution_count": 40,
   "id": "34b67013",
   "metadata": {
    "execution": {
     "iopub.execute_input": "2023-03-03T21:20:49.396529Z",
     "iopub.status.busy": "2023-03-03T21:20:49.395249Z",
     "iopub.status.idle": "2023-03-03T21:20:49.406999Z",
     "shell.execute_reply": "2023-03-03T21:20:49.405388Z"
    },
    "papermill": {
     "duration": 0.033496,
     "end_time": "2023-03-03T21:20:49.408993",
     "exception": false,
     "start_time": "2023-03-03T21:20:49.375497",
     "status": "completed"
    },
    "tags": []
   },
   "outputs": [],
   "source": [
    "# Feature Scaling\n",
    "from sklearn.preprocessing import StandardScaler\n",
    "sc = StandardScaler()\n",
    "X_train = sc.fit_transform(X_train)\n",
    "X_test = sc.transform(X_test)"
   ]
  },
  {
   "cell_type": "code",
   "execution_count": 41,
   "id": "5980a6cf",
   "metadata": {
    "execution": {
     "iopub.execute_input": "2023-03-03T21:20:49.448786Z",
     "iopub.status.busy": "2023-03-03T21:20:49.447609Z",
     "iopub.status.idle": "2023-03-03T21:20:49.454064Z",
     "shell.execute_reply": "2023-03-03T21:20:49.453282Z"
    },
    "papermill": {
     "duration": 0.02807,
     "end_time": "2023-03-03T21:20:49.455859",
     "exception": false,
     "start_time": "2023-03-03T21:20:49.427789",
     "status": "completed"
    },
    "tags": []
   },
   "outputs": [
    {
     "data": {
      "text/plain": [
       "array([[ 0.82737724,  0.73769513, -0.55018473, ..., -0.47367361,\n",
       "        -0.50244517,  0.58111394],\n",
       "       [-1.56610693, -1.35557354,  0.66149881, ..., -0.47367361,\n",
       "         0.78684529, -1.93846038],\n",
       "       [ 0.82737724, -1.35557354, -0.24726385, ..., -0.47367361,\n",
       "        -0.48885426,  0.58111394],\n",
       "       ...,\n",
       "       [ 0.82737724, -1.35557354, -0.32299407, ...,  2.00893337,\n",
       "        -0.17626324,  0.58111394],\n",
       "       [-1.56610693,  0.73769513, -0.24726385, ..., -0.47367361,\n",
       "        -0.04438104, -1.93846038],\n",
       "       [ 0.82737724,  0.73769513,  0.20711748, ..., -0.47367361,\n",
       "        -0.49237783, -0.67867322]])"
      ]
     },
     "execution_count": 41,
     "metadata": {},
     "output_type": "execute_result"
    }
   ],
   "source": [
    "X_train"
   ]
  },
  {
   "cell_type": "code",
   "execution_count": 42,
   "id": "dda11e4e",
   "metadata": {
    "execution": {
     "iopub.execute_input": "2023-03-03T21:20:49.496152Z",
     "iopub.status.busy": "2023-03-03T21:20:49.495034Z",
     "iopub.status.idle": "2023-03-03T21:20:49.501459Z",
     "shell.execute_reply": "2023-03-03T21:20:49.500614Z"
    },
    "id": "W5gY5jcp8BN-",
    "papermill": {
     "duration": 0.028503,
     "end_time": "2023-03-03T21:20:49.503387",
     "exception": false,
     "start_time": "2023-03-03T21:20:49.474884",
     "status": "completed"
    },
    "tags": []
   },
   "outputs": [],
   "source": [
    "def classify(model):\n",
    "    model.fit(X_train, y_train)\n",
    "    print('Accuracy:', model.score(X_train, y_train))"
   ]
  },
  {
   "cell_type": "code",
   "execution_count": 43,
   "id": "b83742b6",
   "metadata": {
    "execution": {
     "iopub.execute_input": "2023-03-03T21:20:49.544861Z",
     "iopub.status.busy": "2023-03-03T21:20:49.544009Z",
     "iopub.status.idle": "2023-03-03T21:20:49.696951Z",
     "shell.execute_reply": "2023-03-03T21:20:49.695402Z"
    },
    "id": "6q-KynU05d6x",
    "papermill": {
     "duration": 0.176347,
     "end_time": "2023-03-03T21:20:49.699552",
     "exception": false,
     "start_time": "2023-03-03T21:20:49.523205",
     "status": "completed"
    },
    "tags": []
   },
   "outputs": [
    {
     "name": "stdout",
     "output_type": "stream",
     "text": [
      "Accuracy: 0.8035914702581369\n"
     ]
    }
   ],
   "source": [
    "from sklearn.linear_model import LogisticRegression\n",
    "model = LogisticRegression()\n",
    "classify(model)"
   ]
  },
  {
   "cell_type": "code",
   "execution_count": 44,
   "id": "ad4443b6",
   "metadata": {
    "execution": {
     "iopub.execute_input": "2023-03-03T21:20:49.741096Z",
     "iopub.status.busy": "2023-03-03T21:20:49.740124Z",
     "iopub.status.idle": "2023-03-03T21:20:49.887769Z",
     "shell.execute_reply": "2023-03-03T21:20:49.886214Z"
    },
    "id": "bepyNQBm5g89",
    "papermill": {
     "duration": 0.170988,
     "end_time": "2023-03-03T21:20:49.890136",
     "exception": false,
     "start_time": "2023-03-03T21:20:49.719148",
     "status": "completed"
    },
    "tags": []
   },
   "outputs": [
    {
     "name": "stdout",
     "output_type": "stream",
     "text": [
      "Accuracy: 0.9809203142536476\n"
     ]
    }
   ],
   "source": [
    "from sklearn.tree import DecisionTreeClassifier\n",
    "model = DecisionTreeClassifier()\n",
    "classify(model)"
   ]
  },
  {
   "cell_type": "code",
   "execution_count": 45,
   "id": "acf4480b",
   "metadata": {
    "execution": {
     "iopub.execute_input": "2023-03-03T21:20:49.930741Z",
     "iopub.status.busy": "2023-03-03T21:20:49.930349Z",
     "iopub.status.idle": "2023-03-03T21:20:50.313346Z",
     "shell.execute_reply": "2023-03-03T21:20:50.312509Z"
    },
    "id": "p28_5fxj7aB-",
    "papermill": {
     "duration": 0.405753,
     "end_time": "2023-03-03T21:20:50.315488",
     "exception": false,
     "start_time": "2023-03-03T21:20:49.909735",
     "status": "completed"
    },
    "tags": []
   },
   "outputs": [
    {
     "name": "stdout",
     "output_type": "stream",
     "text": [
      "Accuracy: 0.9652076318742986\n"
     ]
    }
   ],
   "source": [
    "from xgboost import XGBClassifier\n",
    "model = XGBClassifier()\n",
    "classify(model)"
   ]
  },
  {
   "cell_type": "code",
   "execution_count": 46,
   "id": "bad16db7",
   "metadata": {
    "execution": {
     "iopub.execute_input": "2023-03-03T21:20:50.356759Z",
     "iopub.status.busy": "2023-03-03T21:20:50.355460Z",
     "iopub.status.idle": "2023-03-03T21:20:51.580238Z",
     "shell.execute_reply": "2023-03-03T21:20:51.579181Z"
    },
    "id": "zpDOqGAW82Jy",
    "outputId": "ca357e25-b55b-406e-9da4-79309436d88c",
    "papermill": {
     "duration": 1.247881,
     "end_time": "2023-03-03T21:20:51.583109",
     "exception": false,
     "start_time": "2023-03-03T21:20:50.335228",
     "status": "completed"
    },
    "tags": []
   },
   "outputs": [
    {
     "name": "stdout",
     "output_type": "stream",
     "text": [
      "Accuracy: 0.8956228956228957\n"
     ]
    }
   ],
   "source": [
    "from catboost import CatBoostClassifier\n",
    "model = CatBoostClassifier(verbose=0)\n",
    "classify(model)"
   ]
  },
  {
   "cell_type": "code",
   "execution_count": 47,
   "id": "baee4e34",
   "metadata": {
    "execution": {
     "iopub.execute_input": "2023-03-03T21:20:51.628162Z",
     "iopub.status.busy": "2023-03-03T21:20:51.627030Z",
     "iopub.status.idle": "2023-03-03T21:20:51.675972Z",
     "shell.execute_reply": "2023-03-03T21:20:51.674324Z"
    },
    "id": "q82KaVJ8-MD1",
    "papermill": {
     "duration": 0.074029,
     "end_time": "2023-03-03T21:20:51.679101",
     "exception": false,
     "start_time": "2023-03-03T21:20:51.605072",
     "status": "completed"
    },
    "tags": []
   },
   "outputs": [
    {
     "name": "stdout",
     "output_type": "stream",
     "text": [
      "Accuracy: 0.8058361391694725\n"
     ]
    },
    {
     "name": "stderr",
     "output_type": "stream",
     "text": [
      "/opt/conda/lib/python3.7/site-packages/sklearn/svm/_base.py:1208: ConvergenceWarning: Liblinear failed to converge, increase the number of iterations.\n",
      "  ConvergenceWarning,\n"
     ]
    }
   ],
   "source": [
    "from sklearn import svm\n",
    "model = svm.LinearSVC(random_state=20)\n",
    "classify(model)"
   ]
  },
  {
   "cell_type": "code",
   "execution_count": 48,
   "id": "044cf27a",
   "metadata": {
    "execution": {
     "iopub.execute_input": "2023-03-03T21:20:51.720722Z",
     "iopub.status.busy": "2023-03-03T21:20:51.720379Z",
     "iopub.status.idle": "2023-03-03T21:20:51.734770Z",
     "shell.execute_reply": "2023-03-03T21:20:51.732775Z"
    },
    "id": "Sr7qV5qk_FPs",
    "papermill": {
     "duration": 0.037943,
     "end_time": "2023-03-03T21:20:51.737724",
     "exception": false,
     "start_time": "2023-03-03T21:20:51.699781",
     "status": "completed"
    },
    "tags": []
   },
   "outputs": [
    {
     "name": "stdout",
     "output_type": "stream",
     "text": [
      "Accuracy: 0.792368125701459\n"
     ]
    }
   ],
   "source": [
    "from sklearn.naive_bayes import GaussianNB \n",
    "model = GaussianNB()  \n",
    "classify(model)"
   ]
  },
  {
   "cell_type": "code",
   "execution_count": 49,
   "id": "b054c963",
   "metadata": {
    "execution": {
     "iopub.execute_input": "2023-03-03T21:20:51.779899Z",
     "iopub.status.busy": "2023-03-03T21:20:51.779479Z",
     "iopub.status.idle": "2023-03-03T21:20:52.208599Z",
     "shell.execute_reply": "2023-03-03T21:20:52.207032Z"
    },
    "id": "jL4Kjv1u5kYB",
    "papermill": {
     "duration": 0.452651,
     "end_time": "2023-03-03T21:20:52.210745",
     "exception": false,
     "start_time": "2023-03-03T21:20:51.758094",
     "status": "completed"
    },
    "tags": []
   },
   "outputs": [
    {
     "name": "stdout",
     "output_type": "stream",
     "text": [
      "Accuracy: 0.9809203142536476\n"
     ]
    }
   ],
   "source": [
    "from sklearn.ensemble import RandomForestClassifier\n",
    "model = RandomForestClassifier()\n",
    "classify(model)"
   ]
  },
  {
   "cell_type": "code",
   "execution_count": 50,
   "id": "ef6ee78f",
   "metadata": {
    "execution": {
     "iopub.execute_input": "2023-03-03T21:20:52.251222Z",
     "iopub.status.busy": "2023-03-03T21:20:52.250848Z",
     "iopub.status.idle": "2023-03-03T21:20:52.414897Z",
     "shell.execute_reply": "2023-03-03T21:20:52.413998Z"
    },
    "papermill": {
     "duration": 0.187583,
     "end_time": "2023-03-03T21:20:52.417743",
     "exception": false,
     "start_time": "2023-03-03T21:20:52.230160",
     "status": "completed"
    },
    "tags": []
   },
   "outputs": [],
   "source": [
    "classifier = RandomForestClassifier().fit(X_train, y_train)"
   ]
  },
  {
   "cell_type": "code",
   "execution_count": 51,
   "id": "cd8e9084",
   "metadata": {
    "execution": {
     "iopub.execute_input": "2023-03-03T21:20:52.459671Z",
     "iopub.status.busy": "2023-03-03T21:20:52.458856Z",
     "iopub.status.idle": "2023-03-03T21:20:52.484712Z",
     "shell.execute_reply": "2023-03-03T21:20:52.483327Z"
    },
    "papermill": {
     "duration": 0.049127,
     "end_time": "2023-03-03T21:20:52.487043",
     "exception": false,
     "start_time": "2023-03-03T21:20:52.437916",
     "status": "completed"
    },
    "tags": []
   },
   "outputs": [
    {
     "data": {
      "text/plain": [
       "array([0, 0, 0, 1, 1, 0, 0, 0, 1, 0, 0, 0, 1, 0, 1, 1, 0, 1, 0, 0, 1, 0,\n",
       "       1, 1, 1, 0, 1, 1, 1, 0, 0, 0, 1, 0, 1, 1, 0, 0, 0, 1, 0, 1, 0, 1,\n",
       "       1, 0, 1, 0, 1, 1, 0, 0, 1, 1, 0, 0, 0, 0, 0, 1, 0, 0, 0, 1, 1, 1,\n",
       "       1, 0, 0, 1, 1, 0, 0, 0, 1, 0, 0, 1, 0, 1, 1, 0, 0, 0, 0, 0, 1, 0,\n",
       "       1, 1, 0, 0, 1, 0, 0, 0, 1, 0, 0, 0, 1, 0, 0, 0, 1, 0, 0, 0, 0, 0,\n",
       "       0, 1, 1, 1, 1, 0, 0, 1, 0, 1, 1, 0, 1, 0, 0, 1, 0, 1, 0, 0, 1, 0,\n",
       "       0, 0, 0, 0, 0, 0, 0, 0, 0, 1, 0, 0, 1, 0, 0, 0, 1, 0, 1, 0, 0, 1,\n",
       "       0, 0, 1, 0, 1, 1, 1, 1, 1, 0, 0, 0, 0, 0, 1, 0, 0, 0, 0, 0, 0, 1,\n",
       "       1, 1, 1, 1, 0, 1, 1, 0, 1, 0, 1, 0, 0, 0, 0, 0, 1, 0, 1, 0, 1, 0,\n",
       "       0, 0, 1, 1, 0, 1, 0, 0, 0, 0, 1, 0, 0, 0, 0, 0, 0, 0, 1, 0, 1, 0,\n",
       "       1, 0, 1, 1, 1, 0, 0, 1, 0, 0, 0, 1, 0, 0, 1, 0, 1, 1, 1, 1, 1, 1,\n",
       "       0, 0, 0, 0, 1, 0, 1, 0, 1, 0, 0, 0, 0, 0, 0, 0, 1, 0, 0, 0, 1, 1,\n",
       "       1, 0, 0, 0, 0, 0, 0, 0, 1, 1, 0, 1, 0, 0, 0, 0, 0, 1, 1, 0, 1, 0,\n",
       "       0, 0, 0, 0, 0, 0, 0, 0, 0, 0, 1, 0, 0, 0, 0, 0, 0, 0, 1, 1, 1, 1,\n",
       "       0, 0, 0, 1, 0, 0, 1, 1, 0, 0, 0, 0, 0, 0, 0, 1, 1, 0, 1, 0, 0, 0,\n",
       "       1, 1, 0, 1, 0, 0, 1, 0, 0, 0, 0, 0, 0, 1, 0, 1, 0, 0, 0, 1, 1, 0,\n",
       "       0, 0, 1, 0, 1, 0, 0, 0, 0, 1, 1, 1, 1, 0, 0, 0, 1, 1, 0, 1, 0, 0,\n",
       "       1, 1, 0, 0, 0, 0, 0, 0, 1, 1, 0, 1, 0, 0, 0, 0, 0, 1, 0, 0, 0, 1,\n",
       "       0, 1, 0, 0, 1, 0, 1, 0, 0, 0, 0, 0, 1, 1, 1, 1, 0, 0, 1, 0, 0, 1])"
      ]
     },
     "execution_count": 51,
     "metadata": {},
     "output_type": "execute_result"
    }
   ],
   "source": [
    "y_pred = classifier.predict(X_test)\n",
    "y_pred"
   ]
  },
  {
   "cell_type": "code",
   "execution_count": 52,
   "id": "3c18e0d6",
   "metadata": {
    "execution": {
     "iopub.execute_input": "2023-03-03T21:20:52.528858Z",
     "iopub.status.busy": "2023-03-03T21:20:52.528464Z",
     "iopub.status.idle": "2023-03-03T21:20:52.533897Z",
     "shell.execute_reply": "2023-03-03T21:20:52.532961Z"
    },
    "papermill": {
     "duration": 0.028616,
     "end_time": "2023-03-03T21:20:52.535717",
     "exception": false,
     "start_time": "2023-03-03T21:20:52.507101",
     "status": "completed"
    },
    "tags": []
   },
   "outputs": [],
   "source": [
    "subm = pd.DataFrame({\n",
    "        \"PassengerId\": df_test[\"PassengerId\"],\n",
    "        \"Survived\": y_pred\n",
    "    })"
   ]
  },
  {
   "cell_type": "code",
   "execution_count": 53,
   "id": "1adc0bf1",
   "metadata": {
    "execution": {
     "iopub.execute_input": "2023-03-03T21:20:52.576651Z",
     "iopub.status.busy": "2023-03-03T21:20:52.576242Z",
     "iopub.status.idle": "2023-03-03T21:20:52.587578Z",
     "shell.execute_reply": "2023-03-03T21:20:52.586157Z"
    },
    "papermill": {
     "duration": 0.034724,
     "end_time": "2023-03-03T21:20:52.589895",
     "exception": false,
     "start_time": "2023-03-03T21:20:52.555171",
     "status": "completed"
    },
    "tags": []
   },
   "outputs": [],
   "source": [
    "subm.to_csv('submission.csv', index=False)"
   ]
  },
  {
   "cell_type": "code",
   "execution_count": 54,
   "id": "90cced50",
   "metadata": {
    "execution": {
     "iopub.execute_input": "2023-03-03T21:20:52.631554Z",
     "iopub.status.busy": "2023-03-03T21:20:52.631167Z",
     "iopub.status.idle": "2023-03-03T21:20:52.643360Z",
     "shell.execute_reply": "2023-03-03T21:20:52.642313Z"
    },
    "papermill": {
     "duration": 0.035146,
     "end_time": "2023-03-03T21:20:52.645337",
     "exception": false,
     "start_time": "2023-03-03T21:20:52.610191",
     "status": "completed"
    },
    "tags": []
   },
   "outputs": [
    {
     "data": {
      "text/html": [
       "<div>\n",
       "<style scoped>\n",
       "    .dataframe tbody tr th:only-of-type {\n",
       "        vertical-align: middle;\n",
       "    }\n",
       "\n",
       "    .dataframe tbody tr th {\n",
       "        vertical-align: top;\n",
       "    }\n",
       "\n",
       "    .dataframe thead th {\n",
       "        text-align: right;\n",
       "    }\n",
       "</style>\n",
       "<table border=\"1\" class=\"dataframe\">\n",
       "  <thead>\n",
       "    <tr style=\"text-align: right;\">\n",
       "      <th></th>\n",
       "      <th>PassengerId</th>\n",
       "      <th>Survived</th>\n",
       "    </tr>\n",
       "  </thead>\n",
       "  <tbody>\n",
       "    <tr>\n",
       "      <th>0</th>\n",
       "      <td>892</td>\n",
       "      <td>0</td>\n",
       "    </tr>\n",
       "    <tr>\n",
       "      <th>1</th>\n",
       "      <td>893</td>\n",
       "      <td>0</td>\n",
       "    </tr>\n",
       "    <tr>\n",
       "      <th>2</th>\n",
       "      <td>894</td>\n",
       "      <td>0</td>\n",
       "    </tr>\n",
       "    <tr>\n",
       "      <th>3</th>\n",
       "      <td>895</td>\n",
       "      <td>1</td>\n",
       "    </tr>\n",
       "    <tr>\n",
       "      <th>4</th>\n",
       "      <td>896</td>\n",
       "      <td>1</td>\n",
       "    </tr>\n",
       "    <tr>\n",
       "      <th>...</th>\n",
       "      <td>...</td>\n",
       "      <td>...</td>\n",
       "    </tr>\n",
       "    <tr>\n",
       "      <th>413</th>\n",
       "      <td>1305</td>\n",
       "      <td>0</td>\n",
       "    </tr>\n",
       "    <tr>\n",
       "      <th>414</th>\n",
       "      <td>1306</td>\n",
       "      <td>1</td>\n",
       "    </tr>\n",
       "    <tr>\n",
       "      <th>415</th>\n",
       "      <td>1307</td>\n",
       "      <td>0</td>\n",
       "    </tr>\n",
       "    <tr>\n",
       "      <th>416</th>\n",
       "      <td>1308</td>\n",
       "      <td>0</td>\n",
       "    </tr>\n",
       "    <tr>\n",
       "      <th>417</th>\n",
       "      <td>1309</td>\n",
       "      <td>1</td>\n",
       "    </tr>\n",
       "  </tbody>\n",
       "</table>\n",
       "<p>418 rows × 2 columns</p>\n",
       "</div>"
      ],
      "text/plain": [
       "     PassengerId  Survived\n",
       "0            892         0\n",
       "1            893         0\n",
       "2            894         0\n",
       "3            895         1\n",
       "4            896         1\n",
       "..           ...       ...\n",
       "413         1305         0\n",
       "414         1306         1\n",
       "415         1307         0\n",
       "416         1308         0\n",
       "417         1309         1\n",
       "\n",
       "[418 rows x 2 columns]"
      ]
     },
     "execution_count": 54,
     "metadata": {},
     "output_type": "execute_result"
    }
   ],
   "source": [
    "pred_df = pd.read_csv('submission.csv')\n",
    "pred_df"
   ]
  },
  {
   "cell_type": "code",
   "execution_count": 55,
   "id": "f84b8b58",
   "metadata": {
    "execution": {
     "iopub.execute_input": "2023-03-03T21:20:52.686085Z",
     "iopub.status.busy": "2023-03-03T21:20:52.685644Z",
     "iopub.status.idle": "2023-03-03T21:20:52.814613Z",
     "shell.execute_reply": "2023-03-03T21:20:52.813541Z"
    },
    "papermill": {
     "duration": 0.151814,
     "end_time": "2023-03-03T21:20:52.816716",
     "exception": false,
     "start_time": "2023-03-03T21:20:52.664902",
     "status": "completed"
    },
    "tags": []
   },
   "outputs": [
    {
     "data": {
      "text/plain": [
       "<AxesSubplot:>"
      ]
     },
     "execution_count": 55,
     "metadata": {},
     "output_type": "execute_result"
    },
    {
     "data": {
      "image/png": "[encoded data removed]",
      "text/plain": [
       "<Figure size 640x480 with 1 Axes>"
      ]
     },
     "metadata": {},
     "output_type": "display_data"
    }
   ],
   "source": [
    "subm['Survived'].value_counts().plot(kind='bar')"
   ]
  }
 ],
 "metadata": {
  "kernelspec": {
   "display_name": "Python 3",
   "language": "python",
   "name": "python3"
  },
  "language_info": {
   "codemirror_mode": {
    "name": "ipython",
    "version": 3
   },
   "file_extension": ".py",
   "mimetype": "text/x-python",
   "name": "python",
   "nbconvert_exporter": "python",
   "pygments_lexer": "ipython3",
   "version": "3.7.12"
  },
  "papermill": {
   "default_parameters": {},
   "duration": 18.135134,
   "end_time": "2023-03-03T21:20:53.660910",
   "environment_variables": {},
   "exception": null,
   "input_path": "__notebook__.ipynb",
   "output_path": "__notebook__.ipynb",
   "parameters": {},
   "start_time": "2023-03-03T21:20:35.525776",
   "version": "2.4.0"
  }
 },
 "nbformat": 4,
 "nbformat_minor": 5
}
