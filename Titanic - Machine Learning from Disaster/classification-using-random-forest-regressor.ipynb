{
 "cells": [
  {
   "cell_type": "code",
   "execution_count": 1,
   "id": "5ac7d02a",
   "metadata": {
    "execution": {
     "iopub.execute_input": "2023-03-01T19:35:13.796501Z",
     "iopub.status.busy": "2023-03-01T19:35:13.796106Z",
     "iopub.status.idle": "2023-03-01T19:35:13.806298Z",
     "shell.execute_reply": "2023-03-01T19:35:13.804898Z"
    },
    "papermill": {
     "duration": 0.019354,
     "end_time": "2023-03-01T19:35:13.809204",
     "exception": false,
     "start_time": "2023-03-01T19:35:13.789850",
     "status": "completed"
    },
    "tags": []
   },
   "outputs": [],
   "source": [
    "import pandas as pd"
   ]
  },
  {
   "cell_type": "code",
   "execution_count": 2,
   "id": "db33d96a",
   "metadata": {
    "execution": {
     "iopub.execute_input": "2023-03-01T19:35:13.818064Z",
     "iopub.status.busy": "2023-03-01T19:35:13.817597Z",
     "iopub.status.idle": "2023-03-01T19:35:13.872469Z",
     "shell.execute_reply": "2023-03-01T19:35:13.871054Z"
    },
    "papermill": {
     "duration": 0.062933,
     "end_time": "2023-03-01T19:35:13.875846",
     "exception": false,
     "start_time": "2023-03-01T19:35:13.812913",
     "status": "completed"
    },
    "tags": []
   },
   "outputs": [],
   "source": [
    "data = pd.read_csv('/kaggle/input/titanic/train.csv')\n",
    "test = pd.read_csv('/kaggle/input/titanic/test.csv')\n",
    "test_ids = test[\"PassengerId\"]\n",
    "\n",
    "def clean(data):\n",
    "    data = data.drop([\"Ticket\", \"PassengerId\", \"Name\", \"Cabin\"], axis=1)\n",
    "    \n",
    "    cols = [\"SibSp\", \"Parch\", \"Fare\", \"Age\"]\n",
    "    for col in cols:\n",
    "        data[col].fillna(data[col].median(), inplace=True)\n",
    "        \n",
    "    data.Embarked.fillna(\"U\", inplace=True)\n",
    "    return data\n",
    "\n",
    "data = clean(data)\n",
    "test = clean(test)"
   ]
  },
  {
   "cell_type": "code",
   "execution_count": 3,
   "id": "be8d02a1",
   "metadata": {
    "execution": {
     "iopub.execute_input": "2023-03-01T19:35:13.885062Z",
     "iopub.status.busy": "2023-03-01T19:35:13.884670Z",
     "iopub.status.idle": "2023-03-01T19:35:13.909625Z",
     "shell.execute_reply": "2023-03-01T19:35:13.908388Z"
    },
    "papermill": {
     "duration": 0.032776,
     "end_time": "2023-03-01T19:35:13.912204",
     "exception": false,
     "start_time": "2023-03-01T19:35:13.879428",
     "status": "completed"
    },
    "tags": []
   },
   "outputs": [
    {
     "data": {
      "text/html": [
       "<div>\n",
       "<style scoped>\n",
       "    .dataframe tbody tr th:only-of-type {\n",
       "        vertical-align: middle;\n",
       "    }\n",
       "\n",
       "    .dataframe tbody tr th {\n",
       "        vertical-align: top;\n",
       "    }\n",
       "\n",
       "    .dataframe thead th {\n",
       "        text-align: right;\n",
       "    }\n",
       "</style>\n",
       "<table border=\"1\" class=\"dataframe\">\n",
       "  <thead>\n",
       "    <tr style=\"text-align: right;\">\n",
       "      <th></th>\n",
       "      <th>Survived</th>\n",
       "      <th>Pclass</th>\n",
       "      <th>Sex</th>\n",
       "      <th>Age</th>\n",
       "      <th>SibSp</th>\n",
       "      <th>Parch</th>\n",
       "      <th>Fare</th>\n",
       "      <th>Embarked</th>\n",
       "    </tr>\n",
       "  </thead>\n",
       "  <tbody>\n",
       "    <tr>\n",
       "      <th>0</th>\n",
       "      <td>0</td>\n",
       "      <td>3</td>\n",
       "      <td>male</td>\n",
       "      <td>22.0</td>\n",
       "      <td>1</td>\n",
       "      <td>0</td>\n",
       "      <td>7.2500</td>\n",
       "      <td>S</td>\n",
       "    </tr>\n",
       "    <tr>\n",
       "      <th>1</th>\n",
       "      <td>1</td>\n",
       "      <td>1</td>\n",
       "      <td>female</td>\n",
       "      <td>38.0</td>\n",
       "      <td>1</td>\n",
       "      <td>0</td>\n",
       "      <td>71.2833</td>\n",
       "      <td>C</td>\n",
       "    </tr>\n",
       "    <tr>\n",
       "      <th>2</th>\n",
       "      <td>1</td>\n",
       "      <td>3</td>\n",
       "      <td>female</td>\n",
       "      <td>26.0</td>\n",
       "      <td>0</td>\n",
       "      <td>0</td>\n",
       "      <td>7.9250</td>\n",
       "      <td>S</td>\n",
       "    </tr>\n",
       "  </tbody>\n",
       "</table>\n",
       "</div>"
      ],
      "text/plain": [
       "   Survived  Pclass     Sex   Age  SibSp  Parch     Fare Embarked\n",
       "0         0       3    male  22.0      1      0   7.2500        S\n",
       "1         1       1  female  38.0      1      0  71.2833        C\n",
       "2         1       3  female  26.0      0      0   7.9250        S"
      ]
     },
     "execution_count": 3,
     "metadata": {},
     "output_type": "execute_result"
    }
   ],
   "source": [
    "data.head(3)"
   ]
  },
  {
   "cell_type": "code",
   "execution_count": 4,
   "id": "0e868c22",
   "metadata": {
    "execution": {
     "iopub.execute_input": "2023-03-01T19:35:13.922290Z",
     "iopub.status.busy": "2023-03-01T19:35:13.921452Z",
     "iopub.status.idle": "2023-03-01T19:35:15.078968Z",
     "shell.execute_reply": "2023-03-01T19:35:15.076809Z"
    },
    "papermill": {
     "duration": 1.166385,
     "end_time": "2023-03-01T19:35:15.082524",
     "exception": false,
     "start_time": "2023-03-01T19:35:13.916139",
     "status": "completed"
    },
    "tags": []
   },
   "outputs": [
    {
     "name": "stdout",
     "output_type": "stream",
     "text": [
      "['female' 'male']\n",
      "['C' 'Q' 'S' 'U']\n"
     ]
    },
    {
     "data": {
      "text/html": [
       "<div>\n",
       "<style scoped>\n",
       "    .dataframe tbody tr th:only-of-type {\n",
       "        vertical-align: middle;\n",
       "    }\n",
       "\n",
       "    .dataframe tbody tr th {\n",
       "        vertical-align: top;\n",
       "    }\n",
       "\n",
       "    .dataframe thead th {\n",
       "        text-align: right;\n",
       "    }\n",
       "</style>\n",
       "<table border=\"1\" class=\"dataframe\">\n",
       "  <thead>\n",
       "    <tr style=\"text-align: right;\">\n",
       "      <th></th>\n",
       "      <th>Survived</th>\n",
       "      <th>Pclass</th>\n",
       "      <th>Sex</th>\n",
       "      <th>Age</th>\n",
       "      <th>SibSp</th>\n",
       "      <th>Parch</th>\n",
       "      <th>Fare</th>\n",
       "      <th>Embarked</th>\n",
       "    </tr>\n",
       "  </thead>\n",
       "  <tbody>\n",
       "    <tr>\n",
       "      <th>0</th>\n",
       "      <td>0</td>\n",
       "      <td>3</td>\n",
       "      <td>1</td>\n",
       "      <td>22.0</td>\n",
       "      <td>1</td>\n",
       "      <td>0</td>\n",
       "      <td>7.2500</td>\n",
       "      <td>2</td>\n",
       "    </tr>\n",
       "    <tr>\n",
       "      <th>1</th>\n",
       "      <td>1</td>\n",
       "      <td>1</td>\n",
       "      <td>0</td>\n",
       "      <td>38.0</td>\n",
       "      <td>1</td>\n",
       "      <td>0</td>\n",
       "      <td>71.2833</td>\n",
       "      <td>0</td>\n",
       "    </tr>\n",
       "    <tr>\n",
       "      <th>2</th>\n",
       "      <td>1</td>\n",
       "      <td>3</td>\n",
       "      <td>0</td>\n",
       "      <td>26.0</td>\n",
       "      <td>0</td>\n",
       "      <td>0</td>\n",
       "      <td>7.9250</td>\n",
       "      <td>2</td>\n",
       "    </tr>\n",
       "    <tr>\n",
       "      <th>3</th>\n",
       "      <td>1</td>\n",
       "      <td>1</td>\n",
       "      <td>0</td>\n",
       "      <td>35.0</td>\n",
       "      <td>1</td>\n",
       "      <td>0</td>\n",
       "      <td>53.1000</td>\n",
       "      <td>2</td>\n",
       "    </tr>\n",
       "    <tr>\n",
       "      <th>4</th>\n",
       "      <td>0</td>\n",
       "      <td>3</td>\n",
       "      <td>1</td>\n",
       "      <td>35.0</td>\n",
       "      <td>0</td>\n",
       "      <td>0</td>\n",
       "      <td>8.0500</td>\n",
       "      <td>2</td>\n",
       "    </tr>\n",
       "  </tbody>\n",
       "</table>\n",
       "</div>"
      ],
      "text/plain": [
       "   Survived  Pclass  Sex   Age  SibSp  Parch     Fare  Embarked\n",
       "0         0       3    1  22.0      1      0   7.2500         2\n",
       "1         1       1    0  38.0      1      0  71.2833         0\n",
       "2         1       3    0  26.0      0      0   7.9250         2\n",
       "3         1       1    0  35.0      1      0  53.1000         2\n",
       "4         0       3    1  35.0      0      0   8.0500         2"
      ]
     },
     "execution_count": 4,
     "metadata": {},
     "output_type": "execute_result"
    }
   ],
   "source": [
    "from sklearn import preprocessing\n",
    "le = preprocessing.LabelEncoder()\n",
    "columns = [\"Sex\", \"Embarked\"]\n",
    "\n",
    "for col in columns:\n",
    "    data[col] = le.fit_transform(data[col])\n",
    "    test[col] = le.transform(test[col])\n",
    "    print(le.classes_)\n",
    "      \n",
    "data.head(5)"
   ]
  },
  {
   "cell_type": "code",
   "execution_count": 5,
   "id": "15688f41",
   "metadata": {
    "execution": {
     "iopub.execute_input": "2023-03-01T19:35:15.093290Z",
     "iopub.status.busy": "2023-03-01T19:35:15.092423Z",
     "iopub.status.idle": "2023-03-01T19:35:15.280394Z",
     "shell.execute_reply": "2023-03-01T19:35:15.279185Z"
    },
    "papermill": {
     "duration": 0.196725,
     "end_time": "2023-03-01T19:35:15.283336",
     "exception": false,
     "start_time": "2023-03-01T19:35:15.086611",
     "status": "completed"
    },
    "tags": []
   },
   "outputs": [],
   "source": [
    "from sklearn.linear_model import LogisticRegression\n",
    "from sklearn.model_selection import train_test_split\n",
    "\n",
    "y = data[\"Survived\"]\n",
    "X = data.drop(\"Survived\", axis=1)\n",
    "\n",
    "X_train, X_val, y_train, y_val = train_test_split(X, y, test_size=0.2, random_state=42)"
   ]
  },
  {
   "cell_type": "code",
   "execution_count": 6,
   "id": "1d73717d",
   "metadata": {
    "execution": {
     "iopub.execute_input": "2023-03-01T19:35:15.293812Z",
     "iopub.status.busy": "2023-03-01T19:35:15.292714Z",
     "iopub.status.idle": "2023-03-01T19:35:15.780429Z",
     "shell.execute_reply": "2023-03-01T19:35:15.778855Z"
    },
    "papermill": {
     "duration": 0.496199,
     "end_time": "2023-03-01T19:35:15.783581",
     "exception": false,
     "start_time": "2023-03-01T19:35:15.287382",
     "status": "completed"
    },
    "tags": []
   },
   "outputs": [],
   "source": [
    "from sklearn.ensemble import RandomForestClassifier\n",
    "clf = RandomForestClassifier(random_state=0).fit(X_train, y_train)"
   ]
  },
  {
   "cell_type": "code",
   "execution_count": 7,
   "id": "503a2ea9",
   "metadata": {
    "execution": {
     "iopub.execute_input": "2023-03-01T19:35:15.794276Z",
     "iopub.status.busy": "2023-03-01T19:35:15.793866Z",
     "iopub.status.idle": "2023-03-01T19:35:15.820326Z",
     "shell.execute_reply": "2023-03-01T19:35:15.819182Z"
    },
    "papermill": {
     "duration": 0.03477,
     "end_time": "2023-03-01T19:35:15.823204",
     "exception": false,
     "start_time": "2023-03-01T19:35:15.788434",
     "status": "completed"
    },
    "tags": []
   },
   "outputs": [
    {
     "data": {
      "text/plain": [
       "0.8044692737430168"
      ]
     },
     "execution_count": 7,
     "metadata": {},
     "output_type": "execute_result"
    }
   ],
   "source": [
    "predictions = clf.predict(X_val)\n",
    "from sklearn.metrics import accuracy_score\n",
    "accuracy_score(y_val, predictions)"
   ]
  },
  {
   "cell_type": "code",
   "execution_count": 8,
   "id": "e3888bb0",
   "metadata": {
    "execution": {
     "iopub.execute_input": "2023-03-01T19:35:15.833666Z",
     "iopub.status.busy": "2023-03-01T19:35:15.833192Z",
     "iopub.status.idle": "2023-03-01T19:35:15.862474Z",
     "shell.execute_reply": "2023-03-01T19:35:15.861149Z"
    },
    "papermill": {
     "duration": 0.037756,
     "end_time": "2023-03-01T19:35:15.865382",
     "exception": false,
     "start_time": "2023-03-01T19:35:15.827626",
     "status": "completed"
    },
    "tags": []
   },
   "outputs": [],
   "source": [
    "submission_preds = clf.predict(test)"
   ]
  },
  {
   "cell_type": "code",
   "execution_count": 9,
   "id": "a7d6788b",
   "metadata": {
    "execution": {
     "iopub.execute_input": "2023-03-01T19:35:15.875243Z",
     "iopub.status.busy": "2023-03-01T19:35:15.874812Z",
     "iopub.status.idle": "2023-03-01T19:35:15.880356Z",
     "shell.execute_reply": "2023-03-01T19:35:15.879230Z"
    },
    "papermill": {
     "duration": 0.013353,
     "end_time": "2023-03-01T19:35:15.882709",
     "exception": false,
     "start_time": "2023-03-01T19:35:15.869356",
     "status": "completed"
    },
    "tags": []
   },
   "outputs": [],
   "source": [
    "df = pd.DataFrame({\"PassengerId\": test_ids.values,\n",
    "                   \"Survived\": submission_preds,\n",
    "                  })"
   ]
  },
  {
   "cell_type": "code",
   "execution_count": 10,
   "id": "fa45c46b",
   "metadata": {
    "execution": {
     "iopub.execute_input": "2023-03-01T19:35:15.893138Z",
     "iopub.status.busy": "2023-03-01T19:35:15.892401Z",
     "iopub.status.idle": "2023-03-01T19:35:15.903080Z",
     "shell.execute_reply": "2023-03-01T19:35:15.901437Z"
    },
    "papermill": {
     "duration": 0.019026,
     "end_time": "2023-03-01T19:35:15.905818",
     "exception": false,
     "start_time": "2023-03-01T19:35:15.886792",
     "status": "completed"
    },
    "tags": []
   },
   "outputs": [],
   "source": [
    "df.to_csv(\"submission.csv\", index=False)"
   ]
  }
 ],
 "metadata": {
  "kernelspec": {
   "display_name": "Python 3",
   "language": "python",
   "name": "python3"
  },
  "language_info": {
   "codemirror_mode": {
    "name": "ipython",
    "version": 3
   },
   "file_extension": ".py",
   "mimetype": "text/x-python",
   "name": "python",
   "nbconvert_exporter": "python",
   "pygments_lexer": "ipython3",
   "version": "3.7.12"
  },
  "papermill": {
   "default_parameters": {},
   "duration": 13.542672,
   "end_time": "2023-03-01T19:35:16.732051",
   "environment_variables": {},
   "exception": null,
   "input_path": "__notebook__.ipynb",
   "output_path": "__notebook__.ipynb",
   "parameters": {},
   "start_time": "2023-03-01T19:35:03.189379",
   "version": "2.4.0"
  }
 },
 "nbformat": 4,
 "nbformat_minor": 5
}
